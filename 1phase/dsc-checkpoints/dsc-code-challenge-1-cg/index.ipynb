{
 "cells": [
  {
   "cell_type": "markdown",
   "metadata": {
    "nbgrader": {
     "grade": false,
     "grade_id": "cell-1dc8c072d516f820",
     "locked": true,
     "schema_version": 3,
     "solution": false,
     "task": false
    }
   },
   "source": [
    "# Phase 1 Code Challenge\n",
    "This code challenge is designed to test your understanding of the Phase 1 material. It covers:\n",
    "\n",
    "- Pandas\n",
    "- Data Visualization\n",
    "- Exploring Statistical Data\n",
    "- Python Data Structures\n",
    "\n",
    "*Read the instructions carefully.* Your code will need to meet detailed specifications to pass automated tests.\n",
    "\n",
    "## Code Tests\n",
    "\n",
    "We have provided some code tests for you to run to check that your work meets the item specifications. Passing these tests does not necessarily mean that you have gotten the item correct - there are additional hidden tests. However, if any of the tests do not pass, this tells you that your code is incorrect and needs changes to meet the specification. To determine what the issue is, read the comments in the code test cells, the error message you receive, and the item instructions."
   ]
  },
  {
   "cell_type": "markdown",
   "metadata": {
    "nbgrader": {
     "grade": false,
     "grade_id": "cell-9cdee0770b4e45d9",
     "locked": true,
     "schema_version": 3,
     "solution": false,
     "task": false
    }
   },
   "source": [
    "---\n",
    "## Part 1: Pandas [Suggested Time: 15 minutes]\n",
    "---\n",
    "In this part, you will preprocess a dataset from the video game [FIFA19](https://www.kaggle.com/karangadiya/fifa19), which contains data from the players' real-life careers."
   ]
  },
  {
   "cell_type": "code",
   "execution_count": 1,
   "metadata": {
    "nbgrader": {
     "grade": false,
     "grade_id": "cell-6b5542e3f39ef221",
     "locked": true,
     "schema_version": 3,
     "solution": false,
     "task": false
    }
   },
   "outputs": [],
   "source": [
    "# Run this cell without changes\n",
    "\n",
    "import pandas as pd\n",
    "import numpy as np\n",
    "from numbers import Number\n",
    "import warnings\n",
    "warnings.filterwarnings('ignore')"
   ]
  },
  {
   "cell_type": "markdown",
   "metadata": {
    "nbgrader": {
     "grade": false,
     "grade_id": "cell-b9b25e040991b1e6",
     "locked": true,
     "schema_version": 3,
     "solution": false,
     "task": false
    }
   },
   "source": [
    "### 1.1) Read `fifa.csv` into a pandas DataFrame named `df`\n",
    "\n",
    "Use pandas to create a new DataFrame, called `df`, containing the data from the dataset in the file `fifa.csv` in the folder containing this notebook. \n",
    "\n",
    "Hint: Use the string `'./fifa.csv'` as the file reference."
   ]
  },
  {
   "cell_type": "code",
   "execution_count": 2,
   "metadata": {
    "nbgrader": {
     "grade": false,
     "grade_id": "cell-18fbca9dcea2ebbd",
     "locked": true,
     "schema_version": 3,
     "solution": false,
     "task": false
    }
   },
   "outputs": [],
   "source": [
    "# CodeGrade step1.1\n",
    "# Replace None with appropriate code\n",
    "with open('./fifa.csv') as f:\n",
    "    df = pd.read_csv(f)"
   ]
  },
  {
   "cell_type": "code",
   "execution_count": 3,
   "metadata": {},
   "outputs": [],
   "source": [
    "# This test confirms that you have created a DataFrame named df\n",
    "\n",
    "assert type(df) == pd.DataFrame"
   ]
  },
  {
   "cell_type": "markdown",
   "metadata": {
    "nbgrader": {
     "grade": false,
     "grade_id": "cell-42ef866849a4d833",
     "locked": true,
     "schema_version": 3,
     "solution": false,
     "task": false
    }
   },
   "source": [
    "### 1.2) Convert the `'Release Clause'` values from Euros to dollars\n",
    "\n",
    "The `'Release Clause'` variable contains prices denominated in Euros. Use the exchange rate `1 Euro = 1.2 Dollars` to convert the prices to dollars. "
   ]
  },
  {
   "cell_type": "code",
   "execution_count": 3,
   "metadata": {},
   "outputs": [],
   "source": [
    "# CodeGrade step1.2\n",
    "# Replace None with appropriate code\n",
    "df['Release Clause'] = df['Release Clause'] * 1.2"
   ]
  },
  {
   "cell_type": "markdown",
   "metadata": {
    "nbgrader": {
     "grade": false,
     "grade_id": "cell-e9a1540ffff85098",
     "locked": true,
     "schema_version": 3,
     "solution": false,
     "task": false
    }
   },
   "source": [
    "### 1.3) Drop rows from `df` with missing values for the `'Release Clause'` feature.\n",
    "    \n",
    "Make sure that `df` remains the name of the dataset with the dropped rows."
   ]
  },
  {
   "cell_type": "code",
   "execution_count": 4,
   "metadata": {},
   "outputs": [],
   "source": [
    "# CodeGrade step1.3\n",
    "# Replace None with appropriate code\n",
    "\n",
    "df.dropna(subset=['Release Clause'], inplace=True)"
   ]
  },
  {
   "cell_type": "code",
   "execution_count": 5,
   "metadata": {},
   "outputs": [],
   "source": [
    "# This test confirms that your dataset has the correct number of observations after dropping\n",
    "\n",
    "assert df['Release Clause'].shape[0] == 16643"
   ]
  },
  {
   "cell_type": "markdown",
   "metadata": {
    "nbgrader": {
     "grade": false,
     "grade_id": "cell-be6ad3929cc953e5",
     "locked": true,
     "schema_version": 3,
     "solution": false,
     "task": false
    }
   },
   "source": [
    "### 1.4) Create a list `top_10_countries` containing the names of the 10 countries with the most players (using the `'Nationality'` column).\n",
    "\n",
    "Hint: Your answer should include England, Germany, Spain, France, and Argentina"
   ]
  },
  {
   "cell_type": "code",
   "execution_count": 6,
   "metadata": {
    "nbgrader": {
     "grade": false,
     "grade_id": "cell-a33121d22f5d8535",
     "locked": true,
     "schema_version": 3,
     "solution": false,
     "task": false
    }
   },
   "outputs": [],
   "source": [
    "# CodeGrade step1.4\n",
    "# Replace None with appropriate code\n",
    "\n",
    "top_10_countries = df['Nationality'].value_counts().head(10).index.tolist()"
   ]
  },
  {
   "cell_type": "code",
   "execution_count": 7,
   "metadata": {},
   "outputs": [],
   "source": [
    "# This test confirms that you have created a list named top_10_countries\n",
    "\n",
    "assert type(top_10_countries) == list\n",
    "\n",
    "# This test confirms that top_10_countries contains England, Germany, Spain, France, and Argentina\n",
    "\n",
    "assert set(['England', 'Germany', 'Spain', 'France', 'Argentina']).issubset(set(top_10_countries))"
   ]
  },
  {
   "cell_type": "markdown",
   "metadata": {
    "nbgrader": {
     "grade": false,
     "grade_id": "cell-f9d5841f356a5a8a",
     "locked": true,
     "schema_version": 3,
     "solution": false,
     "task": false
    }
   },
   "source": [
    "## Part 2: Data Visualization [Suggested Time: 20 minutes]\n",
    "This part uses the same FIFA dataset, and asks you to plot data using `matplotlib`."
   ]
  },
  {
   "cell_type": "code",
   "execution_count": 8,
   "metadata": {
    "nbgrader": {
     "grade": false,
     "grade_id": "cell-0b27595ca9348a59",
     "locked": true,
     "schema_version": 3,
     "solution": false,
     "task": false
    }
   },
   "outputs": [],
   "source": [
    "# Run this cell without changes\n",
    "\n",
    "import matplotlib\n",
    "import matplotlib.pyplot as plt"
   ]
  },
  {
   "cell_type": "markdown",
   "metadata": {
    "nbgrader": {
     "grade": false,
     "grade_id": "cell-112f61d031df8fca",
     "locked": true,
     "schema_version": 3,
     "solution": false,
     "task": false
    }
   },
   "source": [
    "### 2.1) Create a matplotlib figure `player_count_figure` containing a labeled bar chart with the number of players from England, Germany, Spain, France, and Argentina\n",
    "\n",
    "Use the strings provided below (`bar_chart_title`, `bar_chart_count_label`, and `bar_chart_series_label`) to title and label your bar chart. \n",
    "\n",
    "Hint: These are the countries with the top 5 numbers of players, so you may be able to adapt some of the code you used for question 1.4. If you were unable to complete 1.4, use the following values:\n",
    "\n",
    "```\n",
    "Country Name  | Num Players\n",
    "============  | ===========\n",
    "England       | 1000\n",
    "Germany       | 900\n",
    "Spain         | 800\n",
    "France        | 700\n",
    "Argentina     | 600\n",
    "```"
   ]
  },
  {
   "cell_type": "code",
   "execution_count": 9,
   "metadata": {},
   "outputs": [],
   "source": [
    "countries_with_most_players = df['Nationality'].value_counts().head()\n",
    "top_5_countries = countries_with_most_players.index.tolist()\n",
    "top_5_player_count = countries_with_most_players.values.tolist()"
   ]
  },
  {
   "cell_type": "code",
   "execution_count": 10,
   "metadata": {},
   "outputs": [
    {
     "data": {
      "image/png": "[encoded data removed]",
      "text/plain": [
       "<Figure size 864x432 with 1 Axes>"
      ]
     },
     "metadata": {
      "needs_background": "light"
     },
     "output_type": "display_data"
    }
   ],
   "source": [
    "# CodeGrade step2.1\n",
    "# Replace None with appropriate code\n",
    "\n",
    "bar_chart_title = '5 Countries with the Most Players'\n",
    "bar_chart_count_label = 'Number of Players'\n",
    "bar_chart_series_label = 'Nationality'\n",
    "\n",
    "player_count_figure, ax = plt.subplots(figsize=(12, 6))\n",
    "\n",
    "labels = top_5_countries\n",
    "values = top_5_player_count\n",
    "\n",
    "ax.bar(labels, values)\n",
    "\n",
    "ax.set_title(bar_chart_title)\n",
    "ax.set_xlabel(bar_chart_series_label)\n",
    "ax.set_ylabel(bar_chart_count_label)\n",
    "plt.style.use('ggplot');"
   ]
  },
  {
   "cell_type": "code",
   "execution_count": 11,
   "metadata": {},
   "outputs": [],
   "source": [
    "# This test confirms that you have created a figure named player_count_figure\n",
    "\n",
    "assert type(player_count_figure) == plt.Figure\n",
    "\n",
    "# This test confirms that the figure contains exactly one axis\n",
    "\n",
    "assert len(player_count_figure.axes) == 1"
   ]
  },
  {
   "cell_type": "code",
   "execution_count": 12,
   "metadata": {},
   "outputs": [],
   "source": [
    "# These tests confirm that the figure has a title and axis labels \n",
    "\n",
    "assert player_count_figure.axes[0].get_title() != ''\n",
    "assert player_count_figure.axes[0].get_ylabel() != ''\n",
    "assert player_count_figure.axes[0].get_xlabel() != ''"
   ]
  },
  {
   "cell_type": "markdown",
   "metadata": {
    "nbgrader": {
     "grade": false,
     "grade_id": "cell-70190139727d20a2",
     "locked": true,
     "schema_version": 3,
     "solution": false,
     "task": false
    }
   },
   "source": [
    "### 2.2) Create a matplotlib figure `tackle_figure` containing a labeled scatter plot visualizing the relationship between `StandingTackle` (on X axis) and `SlidingTackle` (on Y axis)\n",
    "\n",
    "Use the strings provided below (`scatter_plot_title`, `standing_tackle_label`, and `sliding_tackle_label`) to title and label your scatter plot. "
   ]
  },
  {
   "cell_type": "code",
   "execution_count": 13,
   "metadata": {
    "nbgrader": {
     "grade": false,
     "grade_id": "cell-064cad4a79f53237",
     "locked": false,
     "schema_version": 3,
     "solution": true,
     "task": false
    }
   },
   "outputs": [
    {
     "data": {
      "image/png": "[encoded data removed]",
      "text/plain": [
       "<Figure size 864x504 with 1 Axes>"
      ]
     },
     "metadata": {},
     "output_type": "display_data"
    }
   ],
   "source": [
    "# CodeGrade step2.2\n",
    "\n",
    "x = df['StandingTackle']\n",
    "y = df['SlidingTackle']\n",
    "corr = round(np.corrcoef(x=x, y=y)[0][1], 3)\n",
    "\n",
    "scatter_plot_title = 'Relationship Between Standing Tackles and Sliding Tackles'\n",
    "standing_tackle_label = 'Standing Tackles'\n",
    "sliding_tackle_label = 'Sliding Tackles'\n",
    "\n",
    "tackle_figure, ax = plt.subplots(figsize=(12, 7))\n",
    "\n",
    "ax.scatter(x=x, y=y, marker='.', color='crimson')\n",
    "ax.set_title(scatter_plot_title)\n",
    "\n",
    "ax.set_xlabel(standing_tackle_label)\n",
    "ax.set_ylabel(sliding_tackle_label)\n",
    "ax.annotate(f'Correlation: {corr}', (40, 75))\n",
    "\n",
    "m, b = np.polyfit(x, y, 1)\n",
    "ax.plot(x, m*x+b, color='black', alpha=0.8, linewidth=2, linestyle='-.');\n",
    "\n",
    "# Your code here"
   ]
  },
  {
   "cell_type": "code",
   "execution_count": 14,
   "metadata": {},
   "outputs": [],
   "source": [
    "# This test confirms that you have created a figure named tackle_figure\n",
    "\n",
    "assert type(tackle_figure) == plt.Figure\n",
    "\n",
    "# This test confirms that the figure contains exactly one axis\n",
    "\n",
    "assert len(tackle_figure.axes) == 1"
   ]
  },
  {
   "cell_type": "markdown",
   "metadata": {
    "nbgrader": {
     "grade": false,
     "grade_id": "cell-d6d6af6c94216981",
     "locked": true,
     "schema_version": 3,
     "solution": false,
     "task": false
    }
   },
   "source": [
    "## Part 3: Exploring Statistical Data [Suggested Time: 20 minutes]\n",
    "This part does some exploratory analysis using the same FIFA dataset."
   ]
  },
  {
   "cell_type": "markdown",
   "metadata": {
    "nbgrader": {
     "grade": false,
     "grade_id": "cell-1f6263e9b6ccbe48",
     "locked": true,
     "schema_version": 3,
     "solution": false,
     "task": false
    }
   },
   "source": [
    "### 3.1) Create numeric variables `mean_age` and `median_age` containing the mean and median player ages (respectively)."
   ]
  },
  {
   "cell_type": "code",
   "execution_count": 15,
   "metadata": {
    "nbgrader": {
     "grade": false,
     "grade_id": "cell-8182a47b74d8308c",
     "locked": true,
     "schema_version": 3,
     "solution": false,
     "task": false
    }
   },
   "outputs": [
    {
     "name": "stdout",
     "output_type": "stream",
     "text": [
      "The mean player age is 25.23.\n",
      "The median player age is 25.0.\n"
     ]
    }
   ],
   "source": [
    "# CodeGrade step3.1\n",
    "# Replace None with appropriate code\n",
    "\n",
    "mean_age = round(df['Age'].mean(), 2)\n",
    "median_age = df['Age'].median()\n",
    "print(f'The mean player age is {mean_age}.')\n",
    "print(f'The median player age is {median_age}.')"
   ]
  },
  {
   "cell_type": "code",
   "execution_count": 16,
   "metadata": {},
   "outputs": [],
   "source": [
    "# These tests confirm that you have created numeric variables named mean_age and median_age\n",
    "\n",
    "assert isinstance(mean_age, Number)\n",
    "assert isinstance(median_age, Number)"
   ]
  },
  {
   "cell_type": "markdown",
   "metadata": {
    "nbgrader": {
     "grade": false,
     "grade_id": "cell-53c00926ddd0e281",
     "locked": true,
     "schema_version": 3,
     "solution": false,
     "task": false
    }
   },
   "source": [
    "### 3.2) Create a string variable `oldest_argentine_name` and a numeric variable `oldest_argentine_age` containing the name and age (respectively) of the oldest player with Argentina nationality."
   ]
  },
  {
   "cell_type": "code",
   "execution_count": 18,
   "metadata": {
    "nbgrader": {
     "grade": false,
     "grade_id": "cell-8a8f465bb935cc1a",
     "locked": true,
     "schema_version": 3,
     "solution": false,
     "task": false
    }
   },
   "outputs": [],
   "source": [
    "# CodeGrade step3.2\n",
    "# Replace None with appropriate code\n",
    "\n",
    "oldest_argentine_name = df[df['Nationality'] == 'Argentina'].nlargest(1, columns=['Age'])['Name'].item()\n",
    "oldest_argentine_age = df[df['Nationality'] == 'Argentina'].nlargest(1, columns=['Age'])['Age'].item()"
   ]
  },
  {
   "cell_type": "code",
   "execution_count": 19,
   "metadata": {},
   "outputs": [],
   "source": [
    "# This test confirms that you have created a string variable named oldest_argentine_name\n",
    "\n",
    "assert type(oldest_argentine_name) == str\n",
    "\n",
    "# This test confirms that you have created a numeric variable named oldest_argentine_age\n",
    "\n",
    "assert isinstance(oldest_argentine_age, Number)"
   ]
  },
  {
   "cell_type": "markdown",
   "metadata": {
    "nbgrader": {
     "grade": false,
     "grade_id": "cell-a7ce98ae6d482777",
     "locked": true,
     "schema_version": 3,
     "solution": false,
     "task": false
    }
   },
   "source": [
    "## Part 4: Python Data Structures [Suggested Time: 20 min]\n",
    "\n",
    "Below is a dictionary `players` with information about soccer players. The keys are player names and the values are dictionaries containing each player's age, nationality, and a list of teams they have played for."
   ]
  },
  {
   "cell_type": "code",
   "execution_count": 20,
   "metadata": {
    "nbgrader": {
     "grade": false,
     "grade_id": "cell-aeec0f73b4c2686e",
     "locked": true,
     "schema_version": 3,
     "solution": false,
     "task": false
    }
   },
   "outputs": [],
   "source": [
    "# Run this cell without changes\n",
    "\n",
    "players = {\n",
    "    'L. Messi': {\n",
    "        'age': 31,\n",
    "        'nationality': 'Argentina',\n",
    "        'teams': ['Barcelona']\n",
    "    },\n",
    "    'Cristiano Ronaldo': {\n",
    "        'age': 33,\n",
    "        'nationality': 'Portugal',\n",
    "        'teams': ['Juventus', 'Real Madrid', 'Manchester United']\n",
    "    },\n",
    "    'Neymar Jr': {\n",
    "        'age': 26,\n",
    "        'nationality': 'Brazil',\n",
    "        'teams': ['Santos', 'Barcelona', 'Paris Saint-German']\n",
    "    },\n",
    "    'De Gea': {\n",
    "        'age': 27,\n",
    "        'nationality': 'Spain',\n",
    "        'teams': ['Atletico Madrid', 'Manchester United']\n",
    "    },\n",
    "    'K. De Bruyne': {\n",
    "        'age': 27,\n",
    "        'nationality': 'Belgium',\n",
    "        'teams': ['Chelsea', 'Manchester City']\n",
    "    }\n",
    "}"
   ]
  },
  {
   "cell_type": "markdown",
   "metadata": {
    "nbgrader": {
     "grade": false,
     "grade_id": "cell-c53443152551683e",
     "locked": true,
     "schema_version": 3,
     "solution": false,
     "task": false
    }
   },
   "source": [
    "### 4.1) Create a list `player_names` of all the player names in dictionary `players`. "
   ]
  },
  {
   "cell_type": "code",
   "execution_count": 21,
   "metadata": {
    "nbgrader": {
     "grade": false,
     "grade_id": "cell-59b73bc797a324dd",
     "locked": true,
     "schema_version": 3,
     "solution": false,
     "task": false
    }
   },
   "outputs": [],
   "source": [
    "# CodeGrade step4.1\n",
    "# Replace None with appropriate code\n",
    "\n",
    "player_names = list(players.keys())"
   ]
  },
  {
   "cell_type": "code",
   "execution_count": 22,
   "metadata": {},
   "outputs": [],
   "source": [
    "# This test confirms that you have created a list named player_names\n",
    "\n",
    "assert type(player_names) == list"
   ]
  },
  {
   "cell_type": "markdown",
   "metadata": {
    "nbgrader": {
     "grade": false,
     "grade_id": "cell-b9f6a94ed0a0865e",
     "locked": true,
     "schema_version": 3,
     "solution": false,
     "task": false
    }
   },
   "source": [
    "### 4.2) Create a list of tuples `player_nationalities` containing each player's name along with their nationality."
   ]
  },
  {
   "cell_type": "code",
   "execution_count": 23,
   "metadata": {
    "nbgrader": {
     "grade": false,
     "grade_id": "cell-b52f98d5a617ecee",
     "locked": true,
     "schema_version": 3,
     "solution": false,
     "task": false
    }
   },
   "outputs": [],
   "source": [
    "# CodeGrade step4.2\n",
    "# Replace None with appropriate code\n",
    "\n",
    "player_nationalities = []\n",
    "\n",
    "for player in players:\n",
    "    player_nationalities.append((player, players[player]['nationality']))"
   ]
  },
  {
   "cell_type": "code",
   "execution_count": 24,
   "metadata": {},
   "outputs": [],
   "source": [
    "# This test confirms that you have created a list named player_nationalities\n",
    "\n",
    "assert type(player_nationalities) == list"
   ]
  },
  {
   "cell_type": "code",
   "execution_count": 25,
   "metadata": {},
   "outputs": [
    {
     "data": {
      "text/plain": [
       "[('L. Messi', 'Argentina'),\n",
       " ('Cristiano Ronaldo', 'Portugal'),\n",
       " ('Neymar Jr', 'Brazil'),\n",
       " ('De Gea', 'Spain'),\n",
       " ('K. De Bruyne', 'Belgium')]"
      ]
     },
     "execution_count": 25,
     "metadata": {},
     "output_type": "execute_result"
    }
   ],
   "source": [
    "player_nationalities"
   ]
  },
  {
   "cell_type": "markdown",
   "metadata": {
    "nbgrader": {
     "grade": false,
     "grade_id": "cell-87a014f4e268c1d7",
     "locked": true,
     "schema_version": 3,
     "solution": false,
     "task": false
    }
   },
   "source": [
    "### 4.3) Define a function `get_players_on_team()` that returns a list of names of all the players who have played on a given team.\n",
    "\n",
    "Your function should take two arguments:\n",
    "\n",
    "- A dictionary of player information\n",
    "- A string containing a team name (for which you are trying to find the player names)"
   ]
  },
  {
   "cell_type": "code",
   "execution_count": 26,
   "metadata": {
    "nbgrader": {
     "grade": false,
     "grade_id": "cell-9546ae6235a3a164",
     "locked": true,
     "schema_version": 3,
     "solution": false,
     "task": false
    }
   },
   "outputs": [],
   "source": [
    "# CodeGrade step4.3\n",
    "    # Your code here\n",
    "def get_players_on_team(player_dict, team_name):\n",
    "    player_list = []\n",
    "    for player in player_dict:\n",
    "        if team_name in player_dict[player]['teams']:\n",
    "            player_list.append(player)\n",
    "    return player_list"
   ]
  },
  {
   "cell_type": "code",
   "execution_count": 27,
   "metadata": {},
   "outputs": [],
   "source": [
    "# This test confirms that get_players_on_team() returns the right names for Manchester United\n",
    "\n",
    "manchester_united_players = ['Cristiano Ronaldo', 'De Gea']\n",
    "players_on_manchester_united = get_players_on_team(players, 'Manchester United')\n",
    "\n",
    "assert players_on_manchester_united == manchester_united_players"
   ]
  }
 ],
 "metadata": {
  "celltoolbar": "Create Assignment",
  "kernelspec": {
   "display_name": "Python (learn-env)",
   "language": "python",
   "name": "learn-env"
  },
  "language_info": {
   "codemirror_mode": {
    "name": "ipython",
    "version": 3
   },
   "file_extension": ".py",
   "mimetype": "text/x-python",
   "name": "python",
   "nbconvert_exporter": "python",
   "pygments_lexer": "ipython3",
   "version": "3.8.5"
  }
 },
 "nbformat": 4,
 "nbformat_minor": 4
}
