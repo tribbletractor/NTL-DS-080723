{
 "cells": [
  {
   "cell_type": "markdown",
   "metadata": {
    "toc": true
   },
   "source": [
    "<h1>Table of Contents<span class=\"tocSkip\"></span></h1>\n",
    "<div class=\"toc\"><ul class=\"toc-item\"><li><span><a href=\"#Descriptive-Analysis\" data-toc-modified-id=\"Descriptive-Analysis-1\"><span class=\"toc-item-num\">1&nbsp;&nbsp;</span>Descriptive Analysis</a></span><ul class=\"toc-item\"><li><span><a href=\"#Objectives\" data-toc-modified-id=\"Objectives-1.1\"><span class=\"toc-item-num\">1.1&nbsp;&nbsp;</span>Objectives</a></span></li></ul></li><li><span><a href=\"#Sample-Data\" data-toc-modified-id=\"Sample-Data-2\"><span class=\"toc-item-num\">2&nbsp;&nbsp;</span>Sample Data</a></span><ul class=\"toc-item\"><li><span><a href=\"#df.describe()\" data-toc-modified-id=\"df.describe()-2.1\"><span class=\"toc-item-num\">2.1&nbsp;&nbsp;</span><code>df.describe()</code></a></span></li></ul></li><li><span><a href=\"#Different-Statistical-Measures\" data-toc-modified-id=\"Different-Statistical-Measures-3\"><span class=\"toc-item-num\">3&nbsp;&nbsp;</span>Different Statistical Measures</a></span><ul class=\"toc-item\"><li><span><a href=\"#Measures-of-Center\" data-toc-modified-id=\"Measures-of-Center-3.1\"><span class=\"toc-item-num\">3.1&nbsp;&nbsp;</span>Measures of Center</a></span><ul class=\"toc-item\"><li><span><a href=\"#Mathematical-Properties\" data-toc-modified-id=\"Mathematical-Properties-3.1.1\"><span class=\"toc-item-num\">3.1.1&nbsp;&nbsp;</span>Mathematical Properties</a></span></li></ul></li><li><span><a href=\"#Measures-of-Spread\" data-toc-modified-id=\"Measures-of-Spread-3.2\"><span class=\"toc-item-num\">3.2&nbsp;&nbsp;</span>Measures of Spread</a></span><ul class=\"toc-item\"><li><span><a href=\"#Min,-Max,-and-Range\" data-toc-modified-id=\"Min,-Max,-and-Range-3.2.1\"><span class=\"toc-item-num\">3.2.1&nbsp;&nbsp;</span>Min, Max, and Range</a></span></li><li><span><a href=\"#Percentiles-and-IQR\" data-toc-modified-id=\"Percentiles-and-IQR-3.2.2\"><span class=\"toc-item-num\">3.2.2&nbsp;&nbsp;</span>Percentiles and IQR</a></span></li><li><span><a href=\"#Standard-Deviation\" data-toc-modified-id=\"Standard-Deviation-3.2.3\"><span class=\"toc-item-num\">3.2.3&nbsp;&nbsp;</span>Standard Deviation</a></span></li></ul></li></ul></li><li><span><a href=\"#Visual-Description\" data-toc-modified-id=\"Visual-Description-4\"><span class=\"toc-item-num\">4&nbsp;&nbsp;</span>Visual Description</a></span><ul class=\"toc-item\"><li><span><a href=\"#Histograms\" data-toc-modified-id=\"Histograms-4.1\"><span class=\"toc-item-num\">4.1&nbsp;&nbsp;</span>Histograms</a></span><ul class=\"toc-item\"><li><span><a href=\"#The-&quot;right&quot;-number-of-bins\" data-toc-modified-id=\"The-&quot;right&quot;-number-of-bins-4.1.1\"><span class=\"toc-item-num\">4.1.1&nbsp;&nbsp;</span>The \"right\" number of bins</a></span></li></ul></li><li><span><a href=\"#Box-and-Whisker-Plot\" data-toc-modified-id=\"Box-and-Whisker-Plot-4.2\"><span class=\"toc-item-num\">4.2&nbsp;&nbsp;</span>Box and Whisker Plot</a></span></li></ul></li><li><span><a href=\"#Addressing-Business-Questions\" data-toc-modified-id=\"Addressing-Business-Questions-5\"><span class=\"toc-item-num\">5&nbsp;&nbsp;</span>Addressing Business Questions</a></span><ul class=\"toc-item\"><li><span><a href=\"#Fast-Food-Data\" data-toc-modified-id=\"Fast-Food-Data-5.1\"><span class=\"toc-item-num\">5.1&nbsp;&nbsp;</span>Fast Food Data</a></span><ul class=\"toc-item\"><li><span><a href=\"#Question-1:\" data-toc-modified-id=\"Question-1:-5.1.1\"><span class=\"toc-item-num\">5.1.1&nbsp;&nbsp;</span>Question 1:</a></span></li><li><span><a href=\"#Question-2\" data-toc-modified-id=\"Question-2-5.1.2\"><span class=\"toc-item-num\">5.1.2&nbsp;&nbsp;</span>Question 2</a></span></li><li><span><a href=\"#Question-3-(Exercise!):\" data-toc-modified-id=\"Question-3-(Exercise!):-5.1.3\"><span class=\"toc-item-num\">5.1.3&nbsp;&nbsp;</span>Question 3 (Exercise!):</a></span></li><li><span><a href=\"#Question-4-(Exercise!):\" data-toc-modified-id=\"Question-4-(Exercise!):-5.1.4\"><span class=\"toc-item-num\">5.1.4&nbsp;&nbsp;</span>Question 4 (Exercise!):</a></span></li><li><span><a href=\"#Question-5-(Exercise!)\" data-toc-modified-id=\"Question-5-(Exercise!)-5.1.5\"><span class=\"toc-item-num\">5.1.5&nbsp;&nbsp;</span>Question 5 (Exercise!)</a></span></li></ul></li><li><span><a href=\"#Credit-Card-Data\" data-toc-modified-id=\"Credit-Card-Data-5.2\"><span class=\"toc-item-num\">5.2&nbsp;&nbsp;</span>Credit Card Data</a></span><ul class=\"toc-item\"><li><span><a href=\"#Question-1-(Exercise!)\" data-toc-modified-id=\"Question-1-(Exercise!)-5.2.1\"><span class=\"toc-item-num\">5.2.1&nbsp;&nbsp;</span>Question 1 (Exercise!)</a></span></li><li><span><a href=\"#Question-2-(Exercise!)\" data-toc-modified-id=\"Question-2-(Exercise!)-5.2.2\"><span class=\"toc-item-num\">5.2.2&nbsp;&nbsp;</span>Question 2 (Exercise!)</a></span></li><li><span><a href=\"#Question-3-(Exercise!)\" data-toc-modified-id=\"Question-3-(Exercise!)-5.2.3\"><span class=\"toc-item-num\">5.2.3&nbsp;&nbsp;</span>Question 3 (Exercise!)</a></span></li></ul></li></ul></li><li><span><a href=\"#Level-Up:-Other-Shape-Descriptors\" data-toc-modified-id=\"Level-Up:-Other-Shape-Descriptors-6\"><span class=\"toc-item-num\">6&nbsp;&nbsp;</span>Level Up: Other Shape Descriptors</a></span><ul class=\"toc-item\"><li><span><a href=\"#Moments\" data-toc-modified-id=\"Moments-6.1\"><span class=\"toc-item-num\">6.1&nbsp;&nbsp;</span>Moments</a></span><ul class=\"toc-item\"><li><span><a href=\"#Skewness\" data-toc-modified-id=\"Skewness-6.1.1\"><span class=\"toc-item-num\">6.1.1&nbsp;&nbsp;</span>Skewness</a></span></li><li><span><a href=\"#Kurtosis\" data-toc-modified-id=\"Kurtosis-6.1.2\"><span class=\"toc-item-num\">6.1.2&nbsp;&nbsp;</span>Kurtosis</a></span></li></ul></li><li><span><a href=\"#Symmetry\" data-toc-modified-id=\"Symmetry-6.2\"><span class=\"toc-item-num\">6.2&nbsp;&nbsp;</span>Symmetry</a></span></li><li><span><a href=\"#Modality\" data-toc-modified-id=\"Modality-6.3\"><span class=\"toc-item-num\">6.3&nbsp;&nbsp;</span>Modality</a></span></li></ul></li></ul></div>"
   ]
  },
  {
   "cell_type": "code",
   "execution_count": 1,
   "metadata": {
    "ExecuteTime": {
     "end_time": "2023-04-11T16:01:11.513165Z",
     "start_time": "2023-04-11T16:01:10.244667Z"
    }
   },
   "outputs": [],
   "source": [
    "from scipy import stats\n",
    "from matplotlib import pyplot as plt\n",
    "import seaborn as sns\n",
    "import pandas as pd\n",
    "import numpy as np\n",
    "\n",
    "%matplotlib inline\n",
    "\n",
    "plt.style.use('fivethirtyeight')"
   ]
  },
  {
   "cell_type": "markdown",
   "metadata": {
    "heading_collapsed": true
   },
   "source": [
    "# Descriptive Analysis"
   ]
  },
  {
   "cell_type": "markdown",
   "metadata": {
    "hidden": true
   },
   "source": [
    "When trying to understand your data, it is typically impossible to just look at raw data and get much insight. We need ways to turn a bunch of data into a smaller set of numbers that are easily digestible summaries of your data. This will make them understandable both for you and for the people you work with. We call these **descriptive statistics**."
   ]
  },
  {
   "cell_type": "markdown",
   "metadata": {
    "heading_collapsed": true,
    "hidden": true
   },
   "source": [
    "## Objectives"
   ]
  },
  {
   "cell_type": "markdown",
   "metadata": {
    "hidden": true
   },
   "source": [
    "- Use business context to guide exploratory analyses\n",
    "- Pose clear business-relevant questions and answer them with data\n",
    "- Identify limitations of data for solving business problems"
   ]
  },
  {
   "cell_type": "markdown",
   "metadata": {
    "heading_collapsed": true
   },
   "source": [
    "# Sample Data"
   ]
  },
  {
   "cell_type": "markdown",
   "metadata": {
    "hidden": true
   },
   "source": [
    "Let's build a simple dataset, based on a hypothetical survey of the number of pairs of shoes owned by 11 random people:"
   ]
  },
  {
   "cell_type": "code",
   "execution_count": 2,
   "metadata": {
    "ExecuteTime": {
     "end_time": "2023-04-11T16:01:14.334196Z",
     "start_time": "2023-04-11T16:01:14.315666Z"
    },
    "hidden": true
   },
   "outputs": [],
   "source": [
    "data = np.array([5, 6, 3, 4, 3, 4, 8, 8, 1, 8, 2])\n",
    "data_df = pd.DataFrame(data, columns=[\"Pairs of Shoes\"])"
   ]
  },
  {
   "cell_type": "markdown",
   "metadata": {
    "heading_collapsed": true,
    "hidden": true
   },
   "source": [
    "## `df.describe()`"
   ]
  },
  {
   "cell_type": "markdown",
   "metadata": {
    "hidden": true
   },
   "source": [
    "This dataset has a bunch of individual observations in a range of values. These observations have an **empirical distribution** describing how the values are distributed across this range. We'll shorten this to just **distribution** for now. Everything that follows is our attempt to understand the distribution of our data."
   ]
  },
  {
   "cell_type": "markdown",
   "metadata": {
    "hidden": true
   },
   "source": [
    "You can actually get a bunch of descriptive statistics from any `pandas` DataFrame using the `.describe()` method. This should be one of the first things you'll do when exploring a new dataset."
   ]
  },
  {
   "cell_type": "code",
   "execution_count": 4,
   "metadata": {
    "ExecuteTime": {
     "end_time": "2023-04-11T16:01:28.640669Z",
     "start_time": "2023-04-11T16:01:28.618168Z"
    },
    "hidden": true
   },
   "outputs": [
    {
     "data": {
      "text/html": [
       "<div>\n",
       "<style scoped>\n",
       "    .dataframe tbody tr th:only-of-type {\n",
       "        vertical-align: middle;\n",
       "    }\n",
       "\n",
       "    .dataframe tbody tr th {\n",
       "        vertical-align: top;\n",
       "    }\n",
       "\n",
       "    .dataframe thead th {\n",
       "        text-align: right;\n",
       "    }\n",
       "</style>\n",
       "<table border=\"1\" class=\"dataframe\">\n",
       "  <thead>\n",
       "    <tr style=\"text-align: right;\">\n",
       "      <th></th>\n",
       "      <th>Pairs of Shoes</th>\n",
       "    </tr>\n",
       "  </thead>\n",
       "  <tbody>\n",
       "    <tr>\n",
       "      <th>count</th>\n",
       "      <td>11.000000</td>\n",
       "    </tr>\n",
       "    <tr>\n",
       "      <th>mean</th>\n",
       "      <td>4.727273</td>\n",
       "    </tr>\n",
       "    <tr>\n",
       "      <th>std</th>\n",
       "      <td>2.493628</td>\n",
       "    </tr>\n",
       "    <tr>\n",
       "      <th>min</th>\n",
       "      <td>1.000000</td>\n",
       "    </tr>\n",
       "    <tr>\n",
       "      <th>25%</th>\n",
       "      <td>3.000000</td>\n",
       "    </tr>\n",
       "    <tr>\n",
       "      <th>50%</th>\n",
       "      <td>4.000000</td>\n",
       "    </tr>\n",
       "    <tr>\n",
       "      <th>75%</th>\n",
       "      <td>7.000000</td>\n",
       "    </tr>\n",
       "    <tr>\n",
       "      <th>max</th>\n",
       "      <td>8.000000</td>\n",
       "    </tr>\n",
       "  </tbody>\n",
       "</table>\n",
       "</div>"
      ],
      "text/plain": [
       "       Pairs of Shoes\n",
       "count       11.000000\n",
       "mean         4.727273\n",
       "std          2.493628\n",
       "min          1.000000\n",
       "25%          3.000000\n",
       "50%          4.000000\n",
       "75%          7.000000\n",
       "max          8.000000"
      ]
     },
     "execution_count": 4,
     "metadata": {},
     "output_type": "execute_result"
    }
   ],
   "source": [
    "data_df.describe()"
   ]
  },
  {
   "cell_type": "markdown",
   "metadata": {
    "heading_collapsed": true
   },
   "source": [
    "# Different Statistical Measures"
   ]
  },
  {
   "cell_type": "markdown",
   "metadata": {
    "heading_collapsed": true,
    "hidden": true
   },
   "source": [
    "## Measures of Center"
   ]
  },
  {
   "cell_type": "markdown",
   "metadata": {
    "hidden": true
   },
   "source": [
    "One natural place to begin is to ask about where the **middle** of the data is. In other words, what is the value that is closest to our other values? "
   ]
  },
  {
   "cell_type": "markdown",
   "metadata": {
    "hidden": true
   },
   "source": [
    "There are three common measures used to describe the \"middle\":\n",
    "\n",
    "- **Mean**: The sum of values / number of values\n",
    "- **Median**: The value with as many values above it as below it\n",
    "    - If the dataset has an even number of values, the median is the mean of the two middle numbers.\n",
    "- **Mode**: The most frequent value(s)\n",
    "    - A dataset can have multiple modes if multiple values are tied for the most frequent."
   ]
  },
  {
   "cell_type": "markdown",
   "metadata": {
    "hidden": true
   },
   "source": [
    "Let's see what we have for our example:"
   ]
  },
  {
   "cell_type": "code",
   "execution_count": 5,
   "metadata": {
    "ExecuteTime": {
     "end_time": "2023-04-11T16:02:03.717169Z",
     "start_time": "2023-04-11T16:02:03.706666Z"
    },
    "hidden": true
   },
   "outputs": [
    {
     "name": "stdout",
     "output_type": "stream",
     "text": [
      "Mean: 4.7272727272727275\n",
      "Median: 4.0\n",
      "Mode: 8\n"
     ]
    }
   ],
   "source": [
    "print(f\"Mean: {np.mean(data)}\")\n",
    "print(f\"Median: {np.median(data)}\")\n",
    "print(f\"Mode: {stats.mode(data)[0][0]}\")"
   ]
  },
  {
   "cell_type": "code",
   "execution_count": null,
   "metadata": {
    "ExecuteTime": {
     "end_time": "2023-04-11T16:03:08.150666Z",
     "start_time": "2023-04-11T16:03:08.142696Z"
    },
    "hidden": true
   },
   "outputs": [],
   "source": [
    "## You can also find the mode(s) using np.unique()\n"
   ]
  },
  {
   "cell_type": "markdown",
   "metadata": {
    "hidden": true
   },
   "source": [
    "**Discussion**: If somebody asked you \"How many pairs of shoes do people usually have?\", how would you answer (based on these data)?"
   ]
  },
  {
   "cell_type": "markdown",
   "metadata": {
    "heading_collapsed": true,
    "hidden": true
   },
   "source": [
    "### Mathematical Properties"
   ]
  },
  {
   "cell_type": "markdown",
   "metadata": {
    "hidden": true
   },
   "source": [
    "The mean $\\bar{x}$ is the point that minimizes the *sum of squared differences* for a given set of data.\n",
    "\n",
    "<details>\n",
    "    <summary>\n",
    "        Proof\n",
    "    </summary>\n",
    "    We want to find the point $k$ that minimizes $L(k) = \\Sigma^n_{i=1}(x_i-k)^2$. Now, a calculus trick, which we'll see again: To find the minimum of a function, we'll set its derivative to 0. Taking the derivative, we have:\n",
    "\n",
    "$L'(k) = -2\\Sigma^n_{i=1}(x_i-k)$.\n",
    "\n",
    "Now we solve $L'(k) = 0$ for $k$:\n",
    "\n",
    "$-2\\Sigma^n_{i=1}(x_i-k) = 0$, so <br/><br/>\n",
    "$\\Sigma^n_{i=1}(x_i-k) = 0$, so <br/><br/>\n",
    "$\\Sigma^n_{i=1}x_i = \\Sigma^n_{i=1}k = nk$, so <br/><br/>\n",
    "$k = \\frac{\\Sigma^n_{i=1}x_i}{n} = \\bar{x}$.\n",
    "    </details>\n"
   ]
  },
  {
   "cell_type": "markdown",
   "metadata": {
    "hidden": true
   },
   "source": [
    "By contrast, the median is the point that minimizes the *sum of absolute differences*.\n",
    "\n",
    "<details>\n",
    "    <summary>\n",
    "    Proof\n",
    "    </summary>\n",
    "    We want to find the point $k$ that minimizes $D(k) = \\Sigma^n_{i=1}|x_i-k|$. Taking the derivative, we have:\n",
    "\n",
    "$D'(k) = \\Sigma^n_{i=1}\\frac{k-x_i}{|k-x_i|}$.\n",
    "\n",
    "Now we solve $D'(k) = 0$ for $k$:\n",
    "\n",
    "Consider the sum $\\Sigma^n_{i=1}\\frac{k-x_i}{|k-x_i|} = 0$. Ignoring the case where $k = x_i$, each of the addends in this sum is $1$ if $k\\geq x_i$ and $-1$ if not. To make this sum equal to 0, we thus want to choose $k$ such that there are the same number of $1$s and $-1$s, which means that we want to choose $k$ to be the middle number, i.e. the median.\n",
    "\n",
    "Notes:\n",
    "- if $n$ is odd, then the minimum of the function occurs not where its derivative is 0 but where it is *undefined*;\n",
    "- if $n$ is even, then *any* number between the two middle numbers will minimize our function. By conventional defintion of the median in cases of an even number of data points, we take the arithmetic mean of the two middle numbers.\n",
    "    </details>"
   ]
  },
  {
   "cell_type": "markdown",
   "metadata": {
    "heading_collapsed": true,
    "hidden": true
   },
   "source": [
    "## Measures of Spread"
   ]
  },
  {
   "cell_type": "markdown",
   "metadata": {
    "hidden": true
   },
   "source": [
    "Another natural question is about the **spread** of the data. In other words, how wide a range of values do you have? And how close or far are they from the \"middle\"?"
   ]
  },
  {
   "cell_type": "markdown",
   "metadata": {
    "heading_collapsed": true,
    "hidden": true
   },
   "source": [
    "### Min, Max, and Range"
   ]
  },
  {
   "cell_type": "markdown",
   "metadata": {
    "hidden": true
   },
   "source": [
    "The minimum and maximum values of a dataset tell you the full extent of the values of your dataset. The range of the dataset is the difference between those two values."
   ]
  },
  {
   "cell_type": "code",
   "execution_count": 6,
   "metadata": {
    "ExecuteTime": {
     "end_time": "2023-04-11T16:07:27.853191Z",
     "start_time": "2023-04-11T16:07:27.839167Z"
    },
    "hidden": true
   },
   "outputs": [
    {
     "name": "stdout",
     "output_type": "stream",
     "text": [
      "Min: 1\n",
      "Max: 8\n",
      "Range: 7\n"
     ]
    }
   ],
   "source": [
    "print(f\"Min: {data.min()}\")\n",
    "print(f\"Max: {data.max()}\")\n",
    "print(f\"Range: {data.max() - data.min()}\")"
   ]
  },
  {
   "cell_type": "markdown",
   "metadata": {
    "heading_collapsed": true,
    "hidden": true
   },
   "source": [
    "### Percentiles and IQR"
   ]
  },
  {
   "cell_type": "markdown",
   "metadata": {
    "hidden": true
   },
   "source": [
    "You can also calculate values at various **percentiles** to understand the spread. An \"Nth Percentile\" value is the value that is greater than N% of other values. The 25th and 75th percentiles are commonly used to describe spread, and the **interquartile range (IQR)** is the difference between these two values.\n",
    "\n",
    "See [the docs](https://numpy.org/doc/stable/reference/generated/numpy.percentile.html) for more specifics about how percentiles are calculated, which is surprisingly tricky."
   ]
  },
  {
   "cell_type": "code",
   "execution_count": 7,
   "metadata": {
    "ExecuteTime": {
     "end_time": "2023-04-11T16:08:22.738666Z",
     "start_time": "2023-04-11T16:08:22.720166Z"
    },
    "hidden": true
   },
   "outputs": [
    {
     "name": "stdout",
     "output_type": "stream",
     "text": [
      "25th Percentile: 3.0\n",
      "75th Percentile: 7.0\n",
      "IQR: 4.0\n"
     ]
    }
   ],
   "source": [
    "print(f\"25th Percentile: {np.percentile(data, 25)}\")\n",
    "print(f\"75th Percentile: {np.percentile(data, 75)}\")\n",
    "print(f\"IQR: {np.percentile(data, 75) - np.percentile(data, 25)}\")"
   ]
  },
  {
   "cell_type": "markdown",
   "metadata": {
    "heading_collapsed": true,
    "hidden": true
   },
   "source": [
    "### Standard Deviation"
   ]
  },
  {
   "cell_type": "markdown",
   "metadata": {
    "hidden": true
   },
   "source": [
    "The **standard deviation** is in effect the distance from the mean of the \"average\" data point. It is defined as: $$\\sqrt\\frac{\\Sigma(x_i - \\bar{x})^2}{n}$$."
   ]
  },
  {
   "cell_type": "code",
   "execution_count": 8,
   "metadata": {
    "ExecuteTime": {
     "end_time": "2023-04-11T16:09:06.619196Z",
     "start_time": "2023-04-11T16:09:06.612167Z"
    },
    "hidden": true,
    "scrolled": true
   },
   "outputs": [
    {
     "name": "stdout",
     "output_type": "stream",
     "text": [
      "Standard Deviation: 2.3775812419312765\n"
     ]
    }
   ],
   "source": [
    "print(f\"Standard Deviation: {data.std()}\")"
   ]
  },
  {
   "cell_type": "markdown",
   "metadata": {
    "heading_collapsed": true
   },
   "source": [
    "# Visual Description"
   ]
  },
  {
   "cell_type": "markdown",
   "metadata": {
    "hidden": true
   },
   "source": [
    "A picture is worth a thousand words - or numbers! Here we will show how to use histograms and box-and-whisker plots to describe your data."
   ]
  },
  {
   "cell_type": "markdown",
   "metadata": {
    "heading_collapsed": true,
    "hidden": true
   },
   "source": [
    "## Histograms"
   ]
  },
  {
   "cell_type": "markdown",
   "metadata": {
    "hidden": true
   },
   "source": [
    "One natural way of starting to understand a dataset is to construct a **histogram**, which is a bar chart showing the counts of the different values in the dataset.\n",
    "\n",
    "There will usually be many distinct values in your dataset, and you will need to decide how many **bins** to use in the histogram. The bins define the ranges of values captured in each bar in your chart. "
   ]
  },
  {
   "cell_type": "code",
   "execution_count": 9,
   "metadata": {
    "ExecuteTime": {
     "end_time": "2023-04-11T16:10:37.278667Z",
     "start_time": "2023-04-11T16:10:37.072666Z"
    },
    "hidden": true
   },
   "outputs": [
    {
     "data": {
      "text/plain": [
       "Text(0.5, 1.0, 'Counts, 14 Bins')"
      ]
     },
     "execution_count": 9,
     "metadata": {},
     "output_type": "execute_result"
    },
    {
     "data": {
      "image/png": "[encoded data removed]",
      "text/plain": [
       "<Figure size 432x288 with 1 Axes>"
      ]
     },
     "metadata": {},
     "output_type": "display_data"
    }
   ],
   "source": [
    "fig, ax = plt.subplots()\n",
    "ax.hist(data, bins=14)\n",
    "plt.title('Counts, 14 Bins')"
   ]
  },
  {
   "cell_type": "code",
   "execution_count": 10,
   "metadata": {
    "ExecuteTime": {
     "end_time": "2023-04-11T16:10:48.392167Z",
     "start_time": "2023-04-11T16:10:48.072666Z"
    },
    "hidden": true
   },
   "outputs": [
    {
     "data": {
      "text/plain": [
       "Text(0.5, 1.0, 'Counts, 10 Bins')"
      ]
     },
     "execution_count": 10,
     "metadata": {},
     "output_type": "execute_result"
    },
    {
     "data": {
      "image/png": "[encoded data removed]",
      "text/plain": [
       "<Figure size 432x288 with 1 Axes>"
      ]
     },
     "metadata": {},
     "output_type": "display_data"
    }
   ],
   "source": [
    "fig, ax = plt.subplots()\n",
    "ax.hist(data, bins=10)\n",
    "plt.title('Counts, 10 Bins')"
   ]
  },
  {
   "cell_type": "code",
   "execution_count": 11,
   "metadata": {
    "hidden": true
   },
   "outputs": [
    {
     "data": {
      "text/plain": [
       "Text(0.5, 1.0, 'Counts, 5 Bins')"
      ]
     },
     "execution_count": 11,
     "metadata": {},
     "output_type": "execute_result"
    },
    {
     "data": {
      "image/png": "[encoded data removed]",
      "text/plain": [
       "<Figure size 432x288 with 1 Axes>"
      ]
     },
     "metadata": {},
     "output_type": "display_data"
    }
   ],
   "source": [
    "fig, ax = plt.subplots()\n",
    "ax.hist(data, bins=5)\n",
    "plt.title('Counts, 5 Bins')"
   ]
  },
  {
   "cell_type": "code",
   "execution_count": 12,
   "metadata": {
    "ExecuteTime": {
     "end_time": "2023-04-11T16:10:53.553666Z",
     "start_time": "2023-04-11T16:10:53.400696Z"
    },
    "hidden": true
   },
   "outputs": [
    {
     "data": {
      "text/plain": [
       "Text(0.5, 1.0, 'Counts, 7 Bins')"
      ]
     },
     "execution_count": 12,
     "metadata": {},
     "output_type": "execute_result"
    },
    {
     "data": {
      "image/png": "[encoded data removed]",
      "text/plain": [
       "<Figure size 432x288 with 1 Axes>"
      ]
     },
     "metadata": {},
     "output_type": "display_data"
    }
   ],
   "source": [
    "fig, ax = plt.subplots()\n",
    "ax.hist(data, bins=7)\n",
    "plt.title('Counts, 7 Bins')"
   ]
  },
  {
   "cell_type": "markdown",
   "metadata": {
    "heading_collapsed": true,
    "hidden": true
   },
   "source": [
    "### The \"right\" number of bins"
   ]
  },
  {
   "cell_type": "markdown",
   "metadata": {
    "hidden": true
   },
   "source": [
    "Using the wrong number of bins in a histogram can cause you to make invalid assumptions.\n",
    "\n",
    "What's the \"right\" number of bins?\n",
    "\n",
    "Easy: Depends.\n",
    "\n",
    "There are many ways of calculating the correct number of bins. However, we will stick with the most common method as outlined in [this Wikipedia](https://en.wikipedia.org/wiki/Histogram#Number_of_bins_and_width) article.\n",
    "\n",
    "Namely:\n",
    "\n",
    "$$\\lceil\\sqrt n \\rceil$$\n",
    "\n",
    "with n being number of samples."
   ]
  },
  {
   "cell_type": "code",
   "execution_count": 16,
   "metadata": {
    "ExecuteTime": {
     "end_time": "2023-04-11T16:13:10.697667Z",
     "start_time": "2023-04-11T16:13:10.529166Z"
    },
    "hidden": true
   },
   "outputs": [
    {
     "data": {
      "image/png": "[encoded data removed]",
      "text/plain": [
       "<Figure size 432x288 with 1 Axes>"
      ]
     },
     "metadata": {},
     "output_type": "display_data"
    }
   ],
   "source": [
    "bins = int( len(data)**(1/2) )\n",
    "\n",
    "fig, ax = plt.subplots()\n",
    "ax.hist(data, bins=bins)\n",
    "plt.title(f'Counts, SQRT of number of obserations: {bins}');"
   ]
  },
  {
   "cell_type": "markdown",
   "metadata": {
    "heading_collapsed": true,
    "hidden": true
   },
   "source": [
    "## Box and Whisker Plot"
   ]
  },
  {
   "cell_type": "markdown",
   "metadata": {
    "hidden": true
   },
   "source": [
    "A box-and-whisker plot can also be useful for visually summarizing your data by showing the min, IQR, and max. [This article](https://towardsdatascience.com/understanding-boxplots-5e2df7bcbd51) explains how to read them."
   ]
  },
  {
   "cell_type": "code",
   "execution_count": 18,
   "metadata": {
    "ExecuteTime": {
     "end_time": "2023-04-11T16:13:41.837166Z",
     "start_time": "2023-04-11T16:13:41.716666Z"
    },
    "hidden": true
   },
   "outputs": [
    {
     "data": {
      "image/png": "[encoded data removed]",
      "text/plain": [
       "<Figure size 432x288 with 1 Axes>"
      ]
     },
     "metadata": {},
     "output_type": "display_data"
    }
   ],
   "source": [
    "fig, ax = plt.subplots()\n",
    "ax.boxplot(data)\n",
    "plt.title('Counts of Pairs of Shoes');"
   ]
  },
  {
   "cell_type": "markdown",
   "metadata": {
    "heading_collapsed": true
   },
   "source": [
    "# Addressing Business Questions"
   ]
  },
  {
   "cell_type": "markdown",
   "metadata": {
    "heading_collapsed": true,
    "hidden": true
   },
   "source": [
    "## Fast Food Data"
   ]
  },
  {
   "cell_type": "code",
   "execution_count": 19,
   "metadata": {
    "ExecuteTime": {
     "end_time": "2023-04-11T16:16:13.938666Z",
     "start_time": "2023-04-11T16:16:13.734667Z"
    },
    "hidden": true
   },
   "outputs": [],
   "source": [
    "ffood = pd.read_csv('data/Datafiniti_Fast_Food.csv')"
   ]
  },
  {
   "cell_type": "code",
   "execution_count": 26,
   "metadata": {},
   "outputs": [
    {
     "data": {
      "text/plain": [
       "array(['SONIC Drive In', 'Taco Bell', \"Arby's\", \"Steak 'n Shake\",\n",
       "       \"Wendy's\", 'Burger King', 'Chipotle Mexican Grill', '7-Eleven',\n",
       "       'Dairy Queen', 'Mr. Hero', 'Golden Chick', \"Carl's Jr\", 'Checkers',\n",
       "       \"Rally's\", \"Togo's\", 'Little Q Hot Pot', \"McDonald's\", 'Five Guys',\n",
       "       'Boston Road Pizza', 'Boston Market',\n",
       "       \"D'Angelo Grilled Sandwiches\", \"Nino's Pizzarama\",\n",
       "       \"Filippi's Pizza Grotto\", 'Jack in the Box', 'Round Table Pizza',\n",
       "       'El Pollo Loco', 'In-N-Out Burger', 'Copper Oven Artisan Pizza',\n",
       "       'Del Taco', 'Little Caesars Pizza', 'Sbarro',\n",
       "       \"Casey's General Store\", 'SUBWAY', \"Fat Patty's\", 'Pizza Hut',\n",
       "       \"Culver's\", 'KFC', 'SONIC Drive-In', 'Whataburger', 'Chick-Fil-A',\n",
       "       'Firehouse Subs', \"Cupie's Drive-In\", \"Primo's Pizza\",\n",
       "       \"Simple Simon's Pizza\", 'CASA Mexicana', 'Bob Evans',\n",
       "       'Players Grill', 'Back Yard Burgers', \"Italo's Pizza\",\n",
       "       'Hunan Gardens', 'Toppers Pizza', 'Hernandez Mexican Restaurant',\n",
       "       'Glorious Foods Gourmet to go & Catering', \"Schlotzsky's\",\n",
       "       'Chicken Express', 'Big House Burgers', \"Jerry's Subs & Pizza\",\n",
       "       \"Fox's Pizza Den\", 'Pizza Pub', 'Grande Italian Restaurant',\n",
       "       \"Arni's Crawfordsville\", 'Arctic Circle', 'Pizza Barn',\n",
       "       \"Rico's Pizza & Subs\", \"B's Pizza\", \"Domino's Pizza\", \"Hardee's\",\n",
       "       'Port of Subs', 'Milk Street Cafe', 'Pei Wei', 'W.G. Grinders',\n",
       "       \"Foster's Freeze\", 'Caseys Carry Out Pizza', 'Tastee Freez',\n",
       "       'Taco Bueno', \"Jimmy John's\", 'Subway', \"Papa John's Pizza\",\n",
       "       'Cook Out', 'SUBWAY¬Æ', 'Krispy Krunchy Chicken',\n",
       "       \"Hardee's/red Burrito\", \"Lacey's On The Hill Restaurant\",\n",
       "       'Pizza Pro', 'Cottage Inn Pizza', 'Runza', \"Eudici's Pizza\",\n",
       "       'Taco Cabana', \"Boomer's Drive-In\", 'Hot Dog on a Stick',\n",
       "       \"Dunkin' Donuts\", \"Christo's Original\", 'Carvel', 'Chicken Inn',\n",
       "       'Shake Shack', 'Quiznos Sub', 'KFC - Kentucky Fried Chicken',\n",
       "       'Chick-fil-A', 'El Burrito Loco', \"Papa Gino's\", 'Spangles',\n",
       "       'Capri Restaurant', \"Angelina's Pizza\", \"Chanello's Pizza\",\n",
       "       'Krystal', 'China Bowl Take Out Restaurant', 'Sonic Drive In',\n",
       "       \"Auntie Anne's Pretzels\", 'Garden Catering', \"A's Ace Burgers\",\n",
       "       \"Baker's Drive Thru\", 'Pizza Guys', 'Chicago Pizza With A Twist',\n",
       "       'Surfside Burger Shack', 'Baskin-Robbins', \"Church's Chicken\",\n",
       "       'Ameci Pizza & Pasta', 'Ak Buffet', \"Barro's Pizza\",\n",
       "       \"Long John Silver's\", 'Boys Burgers', \"Topper's Pizza\",\n",
       "       'Panda Express', 'Einstein Bros Bagels', 'Band Box Diner',\n",
       "       'Quiznos', \"Jersey Mike's Subs\", \"Tom's Drive In\",\n",
       "       'Boston Burger Company', 'Romas Pizza', 'Panera Bread',\n",
       "       'Wienerschnitzel', 'Pony Express To Go', 'Popeyes', 'Sonic',\n",
       "       \"Gambino's Pizza\", 'West Point Pizza', \"McAlister's Deli\",\n",
       "       'Barberitos', 'Mrs. Fields', 'Taco Mayo', \"Tacconelli's Pizza\",\n",
       "       \"Guerrazzi's\", \"Gus's Carryout\", \"Moe's Southwest Grill\",\n",
       "       'Siam Fusion', 'Steak Escape', 'Mr. Chicken', 'B.GOOD',\n",
       "       'Taco Casa', \"Sam's Gyros\",\n",
       "       \"Bojangles' Famous Chicken 'n Biscuits\", 'Steak N Shake',\n",
       "       'Waffle House', \"Raising Cane's Chicken Fingers\", 'Sumo Steaks',\n",
       "       'Dragon Dragon', 'Crown Fried Chicken', \"Tumby's Pizza\",\n",
       "       'Creperie', 'Qdoba Mexican Eats', \"Fat Mo's Burgers\",\n",
       "       \"Charley's Grilled Subs\", \"Miss Katie's Diner\", 'Chronic Tacos',\n",
       "       'Shawarma Kebab', \"Wild Willy's\", \"Jake's Wayback Burgers\",\n",
       "       'Taco Mama', 'King of Wings', 'Pretzel Time', 'Sarku Japan',\n",
       "       \"Ivan's Restaurant\", 'Fuddruckers', 'Mandarin Garden',\n",
       "       'El Taquito', 'Four Burgers', 'Penn Station East Coast Subs',\n",
       "       'The New Chalet', 'Blackjack Pizza', 'Gyromania Grill',\n",
       "       'Mc Donalds', 'Yoshinoya', 'China Garden', \"Mama's Fried Chicken\",\n",
       "       'China Restaurant', 'Burger Basket', 'Lobster Hut',\n",
       "       \"Ben and Jerry's\", 'Taco Time', 'Mr. Hoagie', \"Fazzari's\",\n",
       "       \"Taco John's\", 'Pizza Inn', \"Cousin's Subs\", 'Fosters Freeze',\n",
       "       'Starbucks Coffee', \"Carl's Jr.\", \"Taco Bob's\", 'White Castle',\n",
       "       'Pepperjax Grill', 'The Pizza Company', \"Joe's Crab Shack\",\n",
       "       'The Sandwich Place', \"Little Caesar's Pizza\", 'Maid-rite',\n",
       "       'Frates Drive-In', \"Jim's Steaks\", 'Gourmet Grill',\n",
       "       'Villa Italian Kitchen', 'Jacks N Joe', 'Wingstop', 'Beef Villa',\n",
       "       'Tanuki Sushi Bar and Garden', 'Old Carolina Barbecue Company',\n",
       "       'Flame Broiler', 'Kow Thai Take Out', 'iSushi',\n",
       "       'Shangri-la Chinese Restaurant', 'Blackies Hotdog Stand',\n",
       "       'Chun Wah Kam Noodle Factory', 'Italian Pizzeria Restaurant',\n",
       "       'Sakana', \"Bubba's Texas Burger Shack\", \"Ani's Chicken\",\n",
       "       'Farmer Boys', 'Jamba Juice', 'Hot Lips Pizza', \"Rubio's\",\n",
       "       \"Chicken Mary's\", 'Fuku', 'Little Caesars', 'Primo Hoagies',\n",
       "       'De Afghanan Kabob House', \"Raising Cane's\", \"Moe's Burger Joint\",\n",
       "       \"Bobby's Burger Palace\", 'Loving Hut', \"Capriotti's Sandwich Shop\",\n",
       "       'Italian Village Pizza', 'Mustard Seed', 'Saladworks',\n",
       "       \"Jim's Steakout\", 'Charo Chicken', 'Huddle House',\n",
       "       'Great Wall Restaurant', \"Luby's\", 'Big Island Pizza',\n",
       "       \"My Daddy's Pizza & Grille\", 'Boddie Noell Enterprises Inc',\n",
       "       'Roma Pizza', 'Cafe Paris', 'Abruzzi Pizza', 'Bistro To Go',\n",
       "       \"Arthur Treacher's Fish & Chips\", 'Blimpie',\n",
       "       \"Tony Wang's Chinese Restaurant\", 'D & M Subs', 'Danielle Inc',\n",
       "       \"Smithfield's Chicken 'n Bar-b-q\", 'Jack in the Box -',\n",
       "       'Gangnam Style Korean Kitchen', 'Red Baron Drive-In', 'Which Wich',\n",
       "       'Sonic Drive-In', 'Sonic Drive in', \"Grandy's\", 'Wolf River Diner',\n",
       "       'The Extreme Pita', 'Picnic Basket', 'Popeyes Louisiana Kitchen',\n",
       "       \"Natraj's Tandoori\", 'Acropolis Gyro Palace', \"Bennidito's Pizza\",\n",
       "       \"Dick's Hamburgers\", 'Pick Up Stix', 'B Good', 'Peach Garden',\n",
       "       'Pollo Tropical', \"Dominick's Italian Restaurant\",\n",
       "       'St. Clair Broiler', 'Baja Fresh Mexican Grill', 'Fatburger',\n",
       "       \"Charlie's Pizzeria\", 'Salad Creations', \"Price's Chicken Coop\",\n",
       "       'Jollibee', \"Lilly's Restaurant\", 'Sakura Japanese Restaurant',\n",
       "       'Low Chinese American Restaurant', \"Johnny's Wife's Place\",\n",
       "       \"Pita's Republic\", 'Comet Burgers', 'Boardwalk Grill',\n",
       "       'Henny Penny Family Restaurant', 'Dominion Pizza',\n",
       "       'Cook St. Helena', 'Golden Dragon', 'Batter Up', \"Quizno's\",\n",
       "       'ShopHouse Southeast Asian Kitchen', 'Mignano Bros',\n",
       "       'Backyard Grill', 'Gold Star Chili', 'Cluck-U Chicken',\n",
       "       'Local Burger', 'Jon Smith Subs', \"Fox's Gourmet Delicatessen\",\n",
       "       'Great Wraps', \"Lin's Garden\", 'Pretzel Maker', 'Penguin Point',\n",
       "       'Capri Italian Restaurant', 'King Wah', 'Regions Bank', 'KFC/AW',\n",
       "       'McDonalds', 'Bojangles', 'Taco Bell / KFC', \"Arby's - Closed\",\n",
       "       'Shell', \"Carl's Jr. / Green Burrito\", \"Shamus's Sandwich Shoppe\",\n",
       "       'Long John Silvers', 'Fajita Grill', \"George's Gyros Spot 2\",\n",
       "       'Lakewood Ranch Baptist Church', 'China Buffet', 'The Grille',\n",
       "       'Good Guys Pizza', 'Charleys Philly Steaks', 'Islands Restaurant',\n",
       "       \"The Arch at McDonald's Campus Office Building\", 'Buona Vita',\n",
       "       \"Rick's Drive In Out\", \"Johnson's Popcorn\",\n",
       "       'Popeyes Chicken Biscuits', 'Boloco', \"Wolf's Dairy Queen\",\n",
       "       \"Sweet Magnolia's Cafe Bakery\", \"Hardee's / Red Burrito\",\n",
       "       'Great American Hamburger Pie Co',\n",
       "       'Golden Harvest Chinese Restaurant', 'The Flame Broiler',\n",
       "       \"Penn's Thai Cafe\", \"Rally's Hamburgers\",\n",
       "       \"Long John Silver's / AW\", 'Mcdonalds Whitehouse', \"Captain D's\",\n",
       "       'Burger King/Popeyes', 'KFC/Taco Bell',\n",
       "       \"Carl's Jr / Green Burrito\", 'Bob Evans Restaurant', 'El Original',\n",
       "       'Old Country Buffet', 'Arbys', \"Fazoli's\", 'Los Cotijas Taco Shop',\n",
       "       'Hardees', \"Photo's Hot Dogs\", 'Mr Hero', 'T-Mobile', 'Marathon',\n",
       "       'Jimmy Johns', 'Errandbug Fast Restaurant Delivery', 'Legendz',\n",
       "       \"Lion's Choice\", \"Mcdonald's\", 'Adobe Cantina Salsa',\n",
       "       'Orange Julius', \"Kasa's Pizza\", 'The Dog Pit', 'Great Bend Taco',\n",
       "       \"Riviera D'Italia\", \"Charlie's Restaurant\", 'Burrito Bros.',\n",
       "       'Dunkin Donuts', 'Best Gyros', 'Steele Pier Hotdogs',\n",
       "       \"Wendy's Valenti Management\", 'Skyline Chili', 'Tropicana Pizza',\n",
       "       'VeganBurg', 'Smashburger', \"Moe's Cafe\", 'Vista Drive In',\n",
       "       'China City', \"Blake's Lotaburger\", 'Belleria Pizzeria',\n",
       "       \"Pal's Sudden Service\", 'Tiffin', \"Baker's Drive-thru\",\n",
       "       'High Tech Burrito', 'Parkside Gyros', 'Dairy Heaven',\n",
       "       'Cobani Gyro Kebab', \"Zaxby's\", 'Au Bon Pain', 'East of Edens',\n",
       "       'Chipotle', 'Grand China Chinese Restaurant', 'Taco Del Mar',\n",
       "       'Pizza Pipeline', \"Richard's Pizza\", 'The Corner Cafe',\n",
       "       'Maki Fresh', 'Fat Boy Burgers', 'Flying J', 'Extreme Pita',\n",
       "       'Git-It-N-Git', 'GD Bro Burger', 'Hometown Buffet', \"Ryan's\",\n",
       "       'Smoothie King', \"Famous Dave's\", 'Sunrise Gyros',\n",
       "       'Zankou Chicken', \"Rascal's Teriyaki Grill\", 'Ay Jalisco',\n",
       "       'BURGERFI', 'Rallys', \"Zaxby's Chicken Fingers & Buffalo Wings\",\n",
       "       'Gyros Express', 'Super Wings', 'Roche Bros.', 'TheMINT Gastropub',\n",
       "       'California Tortilla', 'Thai Delight', 'Bristol 45 Diner',\n",
       "       'Sheetz', 'Frankies', \"Togi's Sub Station\", 'Citizen Burger Bar',\n",
       "       'Tropical Smoothie Cafe', \"Papa Joe's Pizza\", 'HiBoy Drive-in',\n",
       "       'El Ranchito Taco Shop', \"Bush's Chicken\",\n",
       "       'Hilton Boston Logan Airport', 'Festival Eatery',\n",
       "       \"Patrick's on Third\", \"Mason's Famous Lobster Rolls\",\n",
       "       'Burger House', 'Pollo Campero', 'All About Burger',\n",
       "       \"Nathan's Famous\", 'The Swinging Door', 'Long John Silvers / A&W',\n",
       "       \"Wetzel's Pretzels\", 'Clambake Seafood Restaurant', 'BeanThru',\n",
       "       'Taco Bell/KFC', 'Cafe Zona Rosa', 'Papa Gyros', \"Checker's Pizza\",\n",
       "       'Chinatown Inn', 'Kum & Go', 'PDQ', \"Ray J's American Grill\",\n",
       "       'New York Pizza Department', 'Fashion Cafe', 'Qdoba Mexican Grill',\n",
       "       \"Tam's Burgers\", \"CD's Wings\", \"McDonald's of Rolesville\",\n",
       "       'A&W/Long John Silvers', \"Captain D's Seafood\", 'Wawa',\n",
       "       'Popeyes Chicken & Biscuits', 'Westchester Burger Company',\n",
       "       'Raising Canes', 'Mcdonalds', 'Panda Express Innovation Kitchen',\n",
       "       'Chicken Kitchen', \"Jim Bob's Chicken Fingers\", 'Country Buffet',\n",
       "       \"Petro's Chili & Chips\", 'QDOBA Mexican Eats',\n",
       "       'California Chicken Cafe', 'Blue Coast Burrito', 'Lake Trout 2',\n",
       "       'Happy Dragon', 'Flaming Grill and Buffet', \"Oscar's Restaurant\",\n",
       "       \"Mooney's Ice Cream Store\", 'Cozumel', 'Cremo Drive-In',\n",
       "       'Jalsa Indian Fast Food', 'La Hacienda Mexican Restaurant',\n",
       "       'Flushing A', 'Halo Burger', 'Ocean Empire Restaurant', 'Kismet',\n",
       "       \"Miguel's Jr\", \"Mickey's Gyros & Ribs\", 'Pilot Travel Center',\n",
       "       'Fratellos Hot Dogs', 'Taco Bell/Pizza Hut', 'Burger King¬Æ',\n",
       "       \"Fast Eddie's MOAB\", \"Lupo's Char-Pit\",\n",
       "       \"Original Tommy's Hamburgers\", 'Wienerschitzel',\n",
       "       \"Jack's Goal Line Stand\", 'b.good', \"Bucky's Family Restaurant\",\n",
       "       'Little Italy', \"Sam's Pizza Restaurant\", \"Hobo's Korner Kitchen\",\n",
       "       'Mangia Pizza', \"Carl's Jr. / The Green Burrito\", \"Jason's Deli\",\n",
       "       \"Andy's Frozen Custard\", \"Portillo's\", 'Johnny Rockets',\n",
       "       'Taqueria', 'Umami Burger', 'King Gyros',\n",
       "       'Five Guys Burgers And Fries', 'KFC/Long John Silvers',\n",
       "       \"Zio's Italian Kitchen\", \"Auntie Anne's\", 'Walmart Supercenter',\n",
       "       \"Jimmy's Grotto\", \"Eegee's\", 'Earth Fare', 'B&D Burgers',\n",
       "       \"Nick's Gyros\", '90 Miles Cuban Cafe', 'Tonys Pizza',\n",
       "       'Sesame Burgers & Beer', \"Braum's\", 'Hon Lin Restaurant',\n",
       "       \"Popeye's Louisiana Kitchen\", \"McDonalds's\",\n",
       "       \"Mah's Garden Restaurant\", 'Dairy Queen (Treat Only)',\n",
       "       'Five Guys Burgers Fries', 'Megs Drive In', 'The Hotdog Shoppe',\n",
       "       'Kumagoro Fine Japanese Restaurant and Sushi Bar',\n",
       "       'Wingstop Restaurant', \"Whipper's Pizza\", \"Kim's Oriental Kitchen\",\n",
       "       'Chinatown Express', 'Old Mill Crab House', 'Mr Taco',\n",
       "       \"The 50's Cafe\", \"Papa J's\", 'Jack In The Box',\n",
       "       'Wise Guys A Chicago Eatery', \"Sonic America's Drive-In\",\n",
       "       \"Heff's Burgers\", 'El Pollo Regio', 'El Sombrero', 'Genghis Grill',\n",
       "       \"Palio's Pizza Cafe\", \"Ly's Cafe\", 'Poki Roll', 'Sub Conscious',\n",
       "       \"Bad Daddy's Burger Bar\", \"Kosta's Gyros\", \"Bell's Pizza\",\n",
       "       'The Hat', \"Don & Millie's\", 'PepperJax Grill', \"Ben & Jerry's\",\n",
       "       'Mr. Gyros Greek Food & Pastry', 'Legends Burgers',\n",
       "       \"Plato's Closet\", \"Stoko's\"], dtype=object)"
      ]
     },
     "execution_count": 26,
     "metadata": {},
     "output_type": "execute_result"
    }
   ],
   "source": [
    "ffood['name'].unique()"
   ]
  },
  {
   "cell_type": "markdown",
   "metadata": {
    "heading_collapsed": true,
    "hidden": true
   },
   "source": [
    "### Question 1:"
   ]
  },
  {
   "cell_type": "markdown",
   "metadata": {
    "hidden": true
   },
   "source": [
    "How many different restaurant chains are represented in the data? Visualize the numbers for the restaurants with 50 or more instances."
   ]
  },
  {
   "cell_type": "code",
   "execution_count": null,
   "metadata": {
    "ExecuteTime": {
     "end_time": "2023-04-11T16:18:18.946196Z",
     "start_time": "2023-04-11T16:18:18.923167Z"
    },
    "hidden": true
   },
   "outputs": [],
   "source": [
    "# Answer here\n"
   ]
  },
  {
   "cell_type": "code",
   "execution_count": 28,
   "metadata": {},
   "outputs": [],
   "source": [
    "counts = ffood.name.value_counts()"
   ]
  },
  {
   "cell_type": "code",
   "execution_count": 31,
   "metadata": {},
   "outputs": [],
   "source": [
    "highcounts = counts[counts >= 50]"
   ]
  },
  {
   "cell_type": "code",
   "execution_count": 44,
   "metadata": {},
   "outputs": [
    {
     "data": {
      "image/png": "[encoded data removed]",
      "text/plain": [
       "<Figure size 864x360 with 1 Axes>"
      ]
     },
     "metadata": {},
     "output_type": "display_data"
    }
   ],
   "source": [
    "highcounts.plot.bar(figsize=(12,5), color='orange');"
   ]
  },
  {
   "cell_type": "markdown",
   "metadata": {
    "heading_collapsed": true,
    "hidden": true
   },
   "source": [
    "### Question 2"
   ]
  },
  {
   "cell_type": "markdown",
   "metadata": {
    "hidden": true
   },
   "source": [
    "Visualize the locations of restaurants in Buffalo, NY."
   ]
  },
  {
   "cell_type": "code",
   "execution_count": 50,
   "metadata": {},
   "outputs": [],
   "source": [
    "buffrest = ffood[(ffood['city'] == 'Buffalo')]"
   ]
  },
  {
   "cell_type": "code",
   "execution_count": 51,
   "metadata": {},
   "outputs": [
    {
     "name": "stdout",
     "output_type": "stream",
     "text": [
      "<class 'pandas.core.frame.DataFrame'>\n",
      "Int64Index: 10 entries, 35 to 5474\n",
      "Data columns (total 15 columns):\n",
      " #   Column       Non-Null Count  Dtype  \n",
      "---  ------       --------------  -----  \n",
      " 0   id           10 non-null     object \n",
      " 1   dateAdded    10 non-null     object \n",
      " 2   dateUpdated  10 non-null     object \n",
      " 3   address      10 non-null     object \n",
      " 4   categories   10 non-null     object \n",
      " 5   city         10 non-null     object \n",
      " 6   country      10 non-null     object \n",
      " 7   keys         10 non-null     object \n",
      " 8   latitude     10 non-null     float64\n",
      " 9   longitude    10 non-null     float64\n",
      " 10  name         10 non-null     object \n",
      " 11  postalCode   10 non-null     object \n",
      " 12  province     10 non-null     object \n",
      " 13  sourceURLs   10 non-null     object \n",
      " 14  websites     10 non-null     object \n",
      "dtypes: float64(2), object(13)\n",
      "memory usage: 1.2+ KB\n"
     ]
    }
   ],
   "source": [
    "buffrest.info()"
   ]
  },
  {
   "cell_type": "code",
   "execution_count": 56,
   "metadata": {
    "ExecuteTime": {
     "end_time": "2023-04-11T16:29:48.598666Z",
     "start_time": "2023-04-11T16:29:48.586666Z"
    },
    "hidden": true
   },
   "outputs": [
    {
     "data": {
      "image/png": "[encoded data removed]",
      "text/plain": [
       "<Figure size 432x288 with 1 Axes>"
      ]
     },
     "metadata": {},
     "output_type": "display_data"
    }
   ],
   "source": [
    "# Your Answer Here\n",
    "#scatter (but of what?)\n",
    "sns.scatterplot(x='longitude', y='latitude', data=buffrest);"
   ]
  },
  {
   "cell_type": "markdown",
   "metadata": {
    "heading_collapsed": true,
    "hidden": true
   },
   "source": [
    "### Question 3 (Exercise!):"
   ]
  },
  {
   "cell_type": "markdown",
   "metadata": {
    "hidden": true
   },
   "source": [
    "In this dataset, how many Taco Bell restaurants are there in Alaska, and in which cities are they?"
   ]
  },
  {
   "cell_type": "code",
   "execution_count": null,
   "metadata": {
    "ExecuteTime": {
     "end_time": "2023-04-11T16:47:03.117422Z",
     "start_time": "2023-04-11T16:47:03.103422Z"
    },
    "hidden": true
   },
   "outputs": [],
   "source": [
    "# Answer!\n",
    "\n"
   ]
  },
  {
   "cell_type": "markdown",
   "metadata": {
    "heading_collapsed": true,
    "hidden": true
   },
   "source": [
    "### Question 4 (Exercise!):"
   ]
  },
  {
   "cell_type": "markdown",
   "metadata": {
    "hidden": true
   },
   "source": [
    "Convert the ZIP Codes to (five-digit) integers."
   ]
  },
  {
   "cell_type": "code",
   "execution_count": 86,
   "metadata": {},
   "outputs": [],
   "source": [
    "ffood['postalCode'] = ffood['postalCode'].str[0:5]"
   ]
  },
  {
   "cell_type": "code",
   "execution_count": 87,
   "metadata": {},
   "outputs": [
    {
     "data": {
      "text/html": [
       "<div>\n",
       "<style scoped>\n",
       "    .dataframe tbody tr th:only-of-type {\n",
       "        vertical-align: middle;\n",
       "    }\n",
       "\n",
       "    .dataframe tbody tr th {\n",
       "        vertical-align: top;\n",
       "    }\n",
       "\n",
       "    .dataframe thead th {\n",
       "        text-align: right;\n",
       "    }\n",
       "</style>\n",
       "<table border=\"1\" class=\"dataframe\">\n",
       "  <thead>\n",
       "    <tr style=\"text-align: right;\">\n",
       "      <th></th>\n",
       "      <th>id</th>\n",
       "      <th>dateAdded</th>\n",
       "      <th>dateUpdated</th>\n",
       "      <th>address</th>\n",
       "      <th>categories</th>\n",
       "      <th>city</th>\n",
       "      <th>country</th>\n",
       "      <th>keys</th>\n",
       "      <th>latitude</th>\n",
       "      <th>longitude</th>\n",
       "      <th>name</th>\n",
       "      <th>postalCode</th>\n",
       "      <th>province</th>\n",
       "      <th>sourceURLs</th>\n",
       "      <th>websites</th>\n",
       "      <th>Length_of_Zip</th>\n",
       "    </tr>\n",
       "  </thead>\n",
       "  <tbody>\n",
       "    <tr>\n",
       "      <th>0</th>\n",
       "      <td>AVwcmSyZIN2L1WUfmxyw</td>\n",
       "      <td>2015-10-19T23:47:58Z</td>\n",
       "      <td>2018-06-26T03:00:14Z</td>\n",
       "      <td>800 N Canal Blvd</td>\n",
       "      <td>American Restaurant and Fast Food Restaurant</td>\n",
       "      <td>Thibodaux</td>\n",
       "      <td>US</td>\n",
       "      <td>us/la/thibodaux/800ncanalblvd/1780593795</td>\n",
       "      <td>29.814697</td>\n",
       "      <td>-90.814742</td>\n",
       "      <td>SONIC Drive In</td>\n",
       "      <td>70301</td>\n",
       "      <td>LA</td>\n",
       "      <td>https://foursquare.com/v/sonic-drive-in/4b7361...</td>\n",
       "      <td>https://locations.sonicdrivein.com/la/thibodau...</td>\n",
       "      <td>10000</td>\n",
       "    </tr>\n",
       "    <tr>\n",
       "      <th>1</th>\n",
       "      <td>AVwcmSyZIN2L1WUfmxyw</td>\n",
       "      <td>2015-10-19T23:47:58Z</td>\n",
       "      <td>2018-06-26T03:00:14Z</td>\n",
       "      <td>800 N Canal Blvd</td>\n",
       "      <td>Fast Food Restaurants</td>\n",
       "      <td>Thibodaux</td>\n",
       "      <td>US</td>\n",
       "      <td>us/la/thibodaux/800ncanalblvd/1780593795</td>\n",
       "      <td>29.814697</td>\n",
       "      <td>-90.814742</td>\n",
       "      <td>SONIC Drive In</td>\n",
       "      <td>70301</td>\n",
       "      <td>LA</td>\n",
       "      <td>https://foursquare.com/v/sonic-drive-in/4b7361...</td>\n",
       "      <td>https://locations.sonicdrivein.com/la/thibodau...</td>\n",
       "      <td>10000</td>\n",
       "    </tr>\n",
       "    <tr>\n",
       "      <th>2</th>\n",
       "      <td>AVwcopQoByjofQCxgfVa</td>\n",
       "      <td>2016-03-29T05:06:36Z</td>\n",
       "      <td>2018-06-26T02:59:52Z</td>\n",
       "      <td>206 Wears Valley Rd</td>\n",
       "      <td>Fast Food Restaurant</td>\n",
       "      <td>Pigeon Forge</td>\n",
       "      <td>US</td>\n",
       "      <td>us/tn/pigeonforge/206wearsvalleyrd/-864103396</td>\n",
       "      <td>35.803788</td>\n",
       "      <td>-83.580553</td>\n",
       "      <td>Taco Bell</td>\n",
       "      <td>37863</td>\n",
       "      <td>TN</td>\n",
       "      <td>https://www.yellowpages.com/pigeon-forge-tn/mi...</td>\n",
       "      <td>http://www.tacobell.com,https://locations.taco...</td>\n",
       "      <td>10000</td>\n",
       "    </tr>\n",
       "    <tr>\n",
       "      <th>3</th>\n",
       "      <td>AVweXN5RByjofQCxxilK</td>\n",
       "      <td>2017-01-03T07:46:11Z</td>\n",
       "      <td>2018-06-26T02:59:51Z</td>\n",
       "      <td>3652 Parkway</td>\n",
       "      <td>Fast Food</td>\n",
       "      <td>Pigeon Forge</td>\n",
       "      <td>US</td>\n",
       "      <td>us/tn/pigeonforge/3652parkway/93075755</td>\n",
       "      <td>35.782339</td>\n",
       "      <td>-83.551408</td>\n",
       "      <td>Arby's</td>\n",
       "      <td>37863</td>\n",
       "      <td>TN</td>\n",
       "      <td>http://www.yellowbook.com/profile/arbys_163389...</td>\n",
       "      <td>http://www.arbys.com,https://locations.arbys.c...</td>\n",
       "      <td>10000</td>\n",
       "    </tr>\n",
       "    <tr>\n",
       "      <th>4</th>\n",
       "      <td>AWQ6MUvo3-Khe5l_j3SG</td>\n",
       "      <td>2018-06-26T02:59:43Z</td>\n",
       "      <td>2018-06-26T02:59:43Z</td>\n",
       "      <td>2118 Mt Zion Parkway</td>\n",
       "      <td>Fast Food Restaurant</td>\n",
       "      <td>Morrow</td>\n",
       "      <td>US</td>\n",
       "      <td>us/ga/morrow/2118mtzionparkway/1305117222</td>\n",
       "      <td>33.562738</td>\n",
       "      <td>-84.321143</td>\n",
       "      <td>Steak 'n Shake</td>\n",
       "      <td>30260</td>\n",
       "      <td>GA</td>\n",
       "      <td>https://foursquare.com/v/steak-n-shake/4bcf77a...</td>\n",
       "      <td>http://www.steaknshake.com/locations/23851-ste...</td>\n",
       "      <td>10000</td>\n",
       "    </tr>\n",
       "  </tbody>\n",
       "</table>\n",
       "</div>"
      ],
      "text/plain": [
       "                     id             dateAdded           dateUpdated  \\\n",
       "0  AVwcmSyZIN2L1WUfmxyw  2015-10-19T23:47:58Z  2018-06-26T03:00:14Z   \n",
       "1  AVwcmSyZIN2L1WUfmxyw  2015-10-19T23:47:58Z  2018-06-26T03:00:14Z   \n",
       "2  AVwcopQoByjofQCxgfVa  2016-03-29T05:06:36Z  2018-06-26T02:59:52Z   \n",
       "3  AVweXN5RByjofQCxxilK  2017-01-03T07:46:11Z  2018-06-26T02:59:51Z   \n",
       "4  AWQ6MUvo3-Khe5l_j3SG  2018-06-26T02:59:43Z  2018-06-26T02:59:43Z   \n",
       "\n",
       "                address                                    categories  \\\n",
       "0      800 N Canal Blvd  American Restaurant and Fast Food Restaurant   \n",
       "1      800 N Canal Blvd                         Fast Food Restaurants   \n",
       "2   206 Wears Valley Rd                          Fast Food Restaurant   \n",
       "3          3652 Parkway                                     Fast Food   \n",
       "4  2118 Mt Zion Parkway                          Fast Food Restaurant   \n",
       "\n",
       "           city country                                           keys  \\\n",
       "0     Thibodaux      US       us/la/thibodaux/800ncanalblvd/1780593795   \n",
       "1     Thibodaux      US       us/la/thibodaux/800ncanalblvd/1780593795   \n",
       "2  Pigeon Forge      US  us/tn/pigeonforge/206wearsvalleyrd/-864103396   \n",
       "3  Pigeon Forge      US         us/tn/pigeonforge/3652parkway/93075755   \n",
       "4        Morrow      US      us/ga/morrow/2118mtzionparkway/1305117222   \n",
       "\n",
       "    latitude  longitude            name postalCode province  \\\n",
       "0  29.814697 -90.814742  SONIC Drive In      70301       LA   \n",
       "1  29.814697 -90.814742  SONIC Drive In      70301       LA   \n",
       "2  35.803788 -83.580553       Taco Bell      37863       TN   \n",
       "3  35.782339 -83.551408          Arby's      37863       TN   \n",
       "4  33.562738 -84.321143  Steak 'n Shake      30260       GA   \n",
       "\n",
       "                                          sourceURLs  \\\n",
       "0  https://foursquare.com/v/sonic-drive-in/4b7361...   \n",
       "1  https://foursquare.com/v/sonic-drive-in/4b7361...   \n",
       "2  https://www.yellowpages.com/pigeon-forge-tn/mi...   \n",
       "3  http://www.yellowbook.com/profile/arbys_163389...   \n",
       "4  https://foursquare.com/v/steak-n-shake/4bcf77a...   \n",
       "\n",
       "                                            websites  Length_of_Zip  \n",
       "0  https://locations.sonicdrivein.com/la/thibodau...          10000  \n",
       "1  https://locations.sonicdrivein.com/la/thibodau...          10000  \n",
       "2  http://www.tacobell.com,https://locations.taco...          10000  \n",
       "3  http://www.arbys.com,https://locations.arbys.c...          10000  \n",
       "4  http://www.steaknshake.com/locations/23851-ste...          10000  "
      ]
     },
     "execution_count": 87,
     "metadata": {},
     "output_type": "execute_result"
    }
   ],
   "source": [
    "ffood.head()"
   ]
  },
  {
   "cell_type": "code",
   "execution_count": 88,
   "metadata": {
    "ExecuteTime": {
     "end_time": "2023-04-11T16:48:58.716422Z",
     "start_time": "2023-04-11T16:48:58.703921Z"
    },
    "hidden": true
   },
   "outputs": [],
   "source": [
    "ffood['postalCode'] = ffood['postalCode'].astype('int')"
   ]
  },
  {
   "cell_type": "code",
   "execution_count": 89,
   "metadata": {},
   "outputs": [
    {
     "name": "stdout",
     "output_type": "stream",
     "text": [
      "<class 'pandas.core.frame.DataFrame'>\n",
      "RangeIndex: 10000 entries, 0 to 9999\n",
      "Data columns (total 16 columns):\n",
      " #   Column         Non-Null Count  Dtype  \n",
      "---  ------         --------------  -----  \n",
      " 0   id             10000 non-null  object \n",
      " 1   dateAdded      10000 non-null  object \n",
      " 2   dateUpdated    10000 non-null  object \n",
      " 3   address        10000 non-null  object \n",
      " 4   categories     10000 non-null  object \n",
      " 5   city           10000 non-null  object \n",
      " 6   country        10000 non-null  object \n",
      " 7   keys           10000 non-null  object \n",
      " 8   latitude       10000 non-null  float64\n",
      " 9   longitude      10000 non-null  float64\n",
      " 10  name           10000 non-null  object \n",
      " 11  postalCode     10000 non-null  int64  \n",
      " 12  province       10000 non-null  object \n",
      " 13  sourceURLs     10000 non-null  object \n",
      " 14  websites       10000 non-null  object \n",
      " 15  Length_of_Zip  10000 non-null  int64  \n",
      "dtypes: float64(2), int64(2), object(12)\n",
      "memory usage: 1.2+ MB\n"
     ]
    }
   ],
   "source": [
    "ffood.info()"
   ]
  },
  {
   "cell_type": "markdown",
   "metadata": {
    "heading_collapsed": true,
    "hidden": true
   },
   "source": [
    "### Question 5 (Exercise!)"
   ]
  },
  {
   "cell_type": "markdown",
   "metadata": {
    "hidden": true
   },
   "source": [
    "Which restaurant chain has the greatest representation in San Francisco, CA? (This city covers the ZIP Codes 94100-94188.)"
   ]
  },
  {
   "cell_type": "code",
   "execution_count": null,
   "metadata": {
    "ExecuteTime": {
     "end_time": "2023-04-11T16:52:55.757921Z",
     "start_time": "2023-04-11T16:52:55.743922Z"
    },
    "hidden": true
   },
   "outputs": [],
   "source": [
    "# What you got?\n"
   ]
  },
  {
   "cell_type": "markdown",
   "metadata": {
    "heading_collapsed": true,
    "hidden": true
   },
   "source": [
    "## Credit Card Data"
   ]
  },
  {
   "cell_type": "code",
   "execution_count": null,
   "metadata": {
    "ExecuteTime": {
     "end_time": "2023-04-11T16:54:08.097922Z",
     "start_time": "2023-04-11T16:54:08.012921Z"
    },
    "hidden": true
   },
   "outputs": [],
   "source": [
    "credit = pd.read_csv('data/BankChurners.csv').iloc[:, :-2]"
   ]
  },
  {
   "cell_type": "markdown",
   "metadata": {
    "hidden": true
   },
   "source": [
    "We work for a credit card company and are worried about customers churning (becoming attrited)."
   ]
  },
  {
   "cell_type": "markdown",
   "metadata": {
    "heading_collapsed": true,
    "hidden": true
   },
   "source": [
    "### Question 1 (Exercise!)"
   ]
  },
  {
   "cell_type": "markdown",
   "metadata": {
    "hidden": true
   },
   "source": [
    "Get the means of the numerical columns for the existing and the attrited customers separately."
   ]
  },
  {
   "cell_type": "code",
   "execution_count": null,
   "metadata": {
    "ExecuteTime": {
     "end_time": "2023-04-11T16:56:11.476422Z",
     "start_time": "2023-04-11T16:56:11.456421Z"
    },
    "hidden": true
   },
   "outputs": [],
   "source": [
    "# Write it\n"
   ]
  },
  {
   "cell_type": "markdown",
   "metadata": {
    "heading_collapsed": true,
    "hidden": true
   },
   "source": [
    "### Question 2 (Exercise!)"
   ]
  },
  {
   "cell_type": "markdown",
   "metadata": {
    "hidden": true
   },
   "source": [
    "Visualize the distributions of total revolving balances for each group."
   ]
  },
  {
   "cell_type": "code",
   "execution_count": null,
   "metadata": {
    "ExecuteTime": {
     "end_time": "2023-04-11T16:57:25.380422Z",
     "start_time": "2023-04-11T16:57:25.126922Z"
    },
    "hidden": true
   },
   "outputs": [],
   "source": [
    "# PLOTS!\n",
    "\n"
   ]
  },
  {
   "cell_type": "markdown",
   "metadata": {
    "heading_collapsed": true,
    "hidden": true
   },
   "source": [
    "### Question 3 (Exercise!)"
   ]
  },
  {
   "cell_type": "markdown",
   "metadata": {
    "hidden": true
   },
   "source": [
    "Make two bar charts counting the numbers in each income category for each group separately."
   ]
  },
  {
   "cell_type": "code",
   "execution_count": null,
   "metadata": {
    "ExecuteTime": {
     "end_time": "2023-04-11T16:58:00.301922Z",
     "start_time": "2023-04-11T16:57:59.770422Z"
    },
    "hidden": true
   },
   "outputs": [],
   "source": []
  },
  {
   "cell_type": "markdown",
   "metadata": {
    "heading_collapsed": true
   },
   "source": [
    "# Level Up: Other Shape Descriptors"
   ]
  },
  {
   "cell_type": "markdown",
   "metadata": {
    "hidden": true
   },
   "source": [
    "Here are a few other ways that people describe the distributions of data."
   ]
  },
  {
   "cell_type": "markdown",
   "metadata": {
    "heading_collapsed": true,
    "hidden": true
   },
   "source": [
    "## Moments"
   ]
  },
  {
   "cell_type": "markdown",
   "metadata": {
    "hidden": true
   },
   "source": [
    "The mean is related to $\\Sigma(x_i - \\bar{x})$ while the standard deviation is related to $\\Sigma(x_i - \\bar{x})^2$. We could consider higher exponents as well, of the form $\\Sigma(x_i - \\bar{x})^n$. For each exponent $n>0$, we can define a related statistical **moment**. For $n=3$, the moment is called the **skewness**, which is a measure of how the mean and median diverge. For $n=4$, the moment is called the **kurtosis**, which is a measure of how many values are relatively far from the mean.\n",
    "\n",
    "There are a few different definitions of skewness and kurtosis that are commonly used, but the basic quantities are:\n",
    "\n",
    "- $\\frac{\\Sigma(x_i - \\bar{x})^3}{n\\sigma^3}$ (for skewness)\n",
    "- $\\frac{\\Sigma(x_i - \\bar{x})^4}{n\\sigma^4}$ (for kurtosis)\n",
    "\n",
    "For more on statistical moments, see [here](https://www.statisticshowto.datasciencecentral.com/what-is-a-moment/) and [here](https://www.spcforexcel.com/knowledge/basic-statistics/are-skewness-and-kurtosis-useful-statistics)."
   ]
  },
  {
   "cell_type": "markdown",
   "metadata": {
    "heading_collapsed": true,
    "hidden": true
   },
   "source": [
    "### Skewness"
   ]
  },
  {
   "cell_type": "markdown",
   "metadata": {
    "hidden": true
   },
   "source": [
    "![skew](images/skew.png)"
   ]
  },
  {
   "cell_type": "code",
   "execution_count": null,
   "metadata": {
    "ExecuteTime": {
     "end_time": "2023-04-11T17:01:19.151423Z",
     "start_time": "2023-04-11T17:01:19.132421Z"
    },
    "hidden": true
   },
   "outputs": [],
   "source": [
    "stats.skew(data)"
   ]
  },
  {
   "cell_type": "markdown",
   "metadata": {
    "heading_collapsed": true,
    "hidden": true
   },
   "source": [
    "### Kurtosis"
   ]
  },
  {
   "cell_type": "markdown",
   "metadata": {
    "hidden": true
   },
   "source": [
    "![kurt](images/kurtosis.png)"
   ]
  },
  {
   "cell_type": "code",
   "execution_count": null,
   "metadata": {
    "ExecuteTime": {
     "end_time": "2023-04-11T17:01:50.771422Z",
     "start_time": "2023-04-11T17:01:50.751922Z"
    },
    "hidden": true
   },
   "outputs": [],
   "source": [
    "stats.kurtosis(data)"
   ]
  },
  {
   "cell_type": "markdown",
   "metadata": {
    "hidden": true
   },
   "source": [
    "What if we want to visualize the three histograms together?"
   ]
  },
  {
   "cell_type": "markdown",
   "metadata": {
    "heading_collapsed": true,
    "hidden": true
   },
   "source": [
    "## Symmetry"
   ]
  },
  {
   "cell_type": "code",
   "execution_count": 90,
   "metadata": {
    "ExecuteTime": {
     "end_time": "2023-04-11T17:03:00.645923Z",
     "start_time": "2023-04-11T17:03:00.295921Z"
    },
    "hidden": true
   },
   "outputs": [
    {
     "data": {
      "image/png": "[encoded data removed]",
      "text/plain": [
       "<Figure size 576x504 with 1 Axes>"
      ]
     },
     "metadata": {},
     "output_type": "display_data"
    },
    {
     "data": {
      "image/png": "[encoded data removed]",
      "text/plain": [
       "<Figure size 576x504 with 1 Axes>"
      ]
     },
     "metadata": {},
     "output_type": "display_data"
    }
   ],
   "source": [
    "X = np.linspace(-3, 3, 40)\n",
    "y = stats.norm.pdf(X) + 0.05 * np.random.rand(40)\n",
    "\n",
    "fig, ax = plt.subplots(figsize=(8, 7))\n",
    "ax.plot(X, y, lw=5)\n",
    "ax.vlines(x=0, ymin=0, ymax=0.5, colors = \"black\")\n",
    "plt.title('Symmetric Distribution');\n",
    "\n",
    "X = np.linspace(0, 1, 40)\n",
    "y = stats.expon.pdf(X) + 0.05 * np.random.rand(40)\n",
    "\n",
    "fig, ax = plt.subplots(figsize=(8, 7))\n",
    "ax.plot(X, y, lw=5)\n",
    "plt.title('Asymmetric Distribution');"
   ]
  },
  {
   "cell_type": "markdown",
   "metadata": {
    "heading_collapsed": true,
    "hidden": true
   },
   "source": [
    "## Modality"
   ]
  },
  {
   "cell_type": "code",
   "execution_count": 91,
   "metadata": {
    "ExecuteTime": {
     "end_time": "2023-04-11T17:03:17.338921Z",
     "start_time": "2023-04-11T17:03:16.994422Z"
    },
    "hidden": true
   },
   "outputs": [
    {
     "data": {
      "image/png": "[encoded data removed]",
      "text/plain": [
       "<Figure size 576x504 with 1 Axes>"
      ]
     },
     "metadata": {},
     "output_type": "display_data"
    },
    {
     "data": {
      "image/png": "[encoded data removed]",
      "text/plain": [
       "<Figure size 576x504 with 1 Axes>"
      ]
     },
     "metadata": {},
     "output_type": "display_data"
    }
   ],
   "source": [
    "X = np.linspace(0, 1, 40)\n",
    "y = stats.uniform.pdf(X) + 0.05 * np.random.rand(40)\n",
    "\n",
    "fig, ax = plt.subplots(figsize=(8, 7))\n",
    "ax.plot(X, y, lw=5)\n",
    "plt.ylim(0.5, 1.5)\n",
    "plt.title('Flat Distribution');\n",
    "\n",
    "X = np.linspace(-5, 5, 40)\n",
    "y = stats.norm.pdf(X, loc=-2) + stats.norm.pdf(X, loc=2)\\\n",
    "+ 0.05 * np.random.rand(40)\n",
    "\n",
    "fig, ax = plt.subplots(figsize=(8, 7))\n",
    "ax.plot(X, y, lw=5)\n",
    "plt.title('Bimodal Distribution');"
   ]
  },
  {
   "cell_type": "code",
   "execution_count": null,
   "metadata": {
    "hidden": true
   },
   "outputs": [],
   "source": []
  }
 ],
 "metadata": {
  "kernelspec": {
   "display_name": "Python 3",
   "language": "python",
   "name": "python3"
  },
  "language_info": {
   "codemirror_mode": {
    "name": "ipython",
    "version": 3
   },
   "file_extension": ".py",
   "mimetype": "text/x-python",
   "name": "python",
   "nbconvert_exporter": "python",
   "pygments_lexer": "ipython3",
   "version": "3.8.5"
  },
  "toc": {
   "base_numbering": 1,
   "nav_menu": {},
   "number_sections": true,
   "sideBar": true,
   "skip_h1_title": false,
   "title_cell": "Table of Contents",
   "title_sidebar": "TOC",
   "toc_cell": true,
   "toc_position": {
    "height": "calc(100% - 180px)",
    "left": "10px",
    "top": "150px",
    "width": "288px"
   },
   "toc_section_display": true,
   "toc_window_display": false
  },
  "varInspector": {
   "cols": {
    "lenName": 16,
    "lenType": 16,
    "lenVar": 40
   },
   "kernels_config": {
    "python": {
     "delete_cmd_postfix": "",
     "delete_cmd_prefix": "del ",
     "library": "var_list.py",
     "varRefreshCmd": "print(var_dic_list())"
    },
    "r": {
     "delete_cmd_postfix": ") ",
     "delete_cmd_prefix": "rm(",
     "library": "var_list.r",
     "varRefreshCmd": "cat(var_dic_list()) "
    }
   },
   "position": {
    "height": "144.072px",
    "left": "797.454px",
    "right": "20px",
    "top": "120px",
    "width": "350px"
   },
   "types_to_exclude": [
    "module",
    "function",
    "builtin_function_or_method",
    "instance",
    "_Feature"
   ],
   "window_display": false
  }
 },
 "nbformat": 4,
 "nbformat_minor": 2
}
